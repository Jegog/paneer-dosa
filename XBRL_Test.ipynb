{
 "cells": [
  {
   "cell_type": "code",
   "execution_count": 2,
   "id": "e92fc344-5ba6-42ee-a9d8-3d97bc199e7f",
   "metadata": {},
   "outputs": [
    {
     "name": "stdout",
     "output_type": "stream",
     "text": [
      "{http://www.xbrl.org/2003/instance}xbrl\n"
     ]
    }
   ],
   "source": [
    "from lxml import etree\n",
    "\n",
    "# XBRLファイルの読み込み\n",
    "tree = etree.parse('data/XBRL/jpcrp030000-asr-001_E01739-000_2023-03-31_01_2023-06-29.xbrl')\n",
    "root = tree.getroot()\n",
    "\n",
    "# ルート要素のタグを表示\n",
    "print(root.tag)\n"
   ]
  },
  {
   "cell_type": "code",
   "execution_count": null,
   "id": "e7af1eea-33ce-4224-abd0-35d20250a1ef",
   "metadata": {},
   "outputs": [],
   "source": [
    "from bs4 import BeautifulSoup\n",
    "\n",
    "with open('data/XBRL/jpcrp030000-asr-001_E01739-000_2023-03-31_01_2023-06-29.xbrl', 'r') as file:\n",
    "    soup = BeautifulSoup(file, 'xml')\n",
    "\n",
    "# 例：特定のタグの取得\n",
    "elements = soup.find_all('jpcrp030000-asr_E01739-000:DisclosureOfSustainabilityRelatedFinancialInformationTextBlock')\n",
    "for elem in elements:\n",
    "    print(elem.text)\n"
   ]
  },
  {
   "cell_type": "code",
   "execution_count": 5,
   "id": "47e80c70-9f29-418b-be38-e280dd45c904",
   "metadata": {},
   "outputs": [
    {
     "ename": "ImportError",
     "evalue": "cannot import name 'XBRLParser' from 'xbrl' (/usr/local/lib/python3.8/site-packages/xbrl.py)",
     "output_type": "error",
     "traceback": [
      "\u001b[0;31m---------------------------------------------------------------------------\u001b[0m",
      "\u001b[0;31mImportError\u001b[0m                               Traceback (most recent call last)",
      "Cell \u001b[0;32mIn[5], line 1\u001b[0m\n\u001b[0;32m----> 1\u001b[0m \u001b[38;5;28;01mfrom\u001b[39;00m \u001b[38;5;21;01mxbrl\u001b[39;00m \u001b[38;5;28;01mimport\u001b[39;00m XBRLParser, GAAP\n\u001b[1;32m      3\u001b[0m \u001b[38;5;66;03m# XBRLファイルの解析\u001b[39;00m\n\u001b[1;32m      4\u001b[0m xbrl_parser \u001b[38;5;241m=\u001b[39m XBRLParser()\n",
      "\u001b[0;31mImportError\u001b[0m: cannot import name 'XBRLParser' from 'xbrl' (/usr/local/lib/python3.8/site-packages/xbrl.py)"
     ]
    }
   ],
   "source": [
    "from xbrl import XBRLParser, GAAP\n",
    "\n",
    "# XBRLファイルの解析\n",
    "xbrl_parser = XBRLParser()\n",
    "xbrl = xbrl_parser.parse('data/XBRL/jpcrp030000-asr-001_E01739-000_2023-03-31_01_2023-06-29.xbrl')\n",
    "gaap_obj = xbrl_parser.parseGAAP(xbrl)\n",
    "\n",
    "# 特定の要素の取得\n",
    "sustainability = gaap_obj['jpcrp030000-asr_E01739-000:DisclosureOfSustainabilityRelatedFinancialInformationTextBlock']\n",
    "print(sustainability)\n"
   ]
  },
  {
   "cell_type": "code",
   "execution_count": null,
   "id": "33c1c7c2-993e-4db2-a095-38ac58c6c06f",
   "metadata": {},
   "outputs": [],
   "source": []
  },
  {
   "cell_type": "code",
   "execution_count": null,
   "id": "14c5bf44-eb22-4c72-966b-e0bf3e8015b8",
   "metadata": {},
   "outputs": [],
   "source": []
  }
 ],
 "metadata": {
  "kernelspec": {
   "display_name": "Python 3 (ipykernel)",
   "language": "python",
   "name": "python3"
  },
  "language_info": {
   "codemirror_mode": {
    "name": "ipython",
    "version": 3
   },
   "file_extension": ".py",
   "mimetype": "text/x-python",
   "name": "python",
   "nbconvert_exporter": "python",
   "pygments_lexer": "ipython3",
   "version": "3.8.19"
  }
 },
 "nbformat": 4,
 "nbformat_minor": 5
}
