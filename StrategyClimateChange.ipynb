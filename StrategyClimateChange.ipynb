{
 "cells": [
  {
   "cell_type": "code",
   "execution_count": 4,
   "id": "d9ae6525-f940-4346-9104-36391a4c4a68",
   "metadata": {},
   "outputs": [
    {
     "name": "stdout",
     "output_type": "stream",
     "text": [
      "<?xml version=\"1.0\" encoding=\"UTF-8\"?>\n",
      "<xbrli:xbrl xmlns:iso4217=\"http://www.xbrl.org/2003/iso4217\" xmlns:jpcrp030000-asr_E01739-000=\"http://disclosure.edinet-fsa.go.jp/jpcrp030000/asr/001/E01739-000/2023-03-31/01/2023-06-29\" xmlns:jpcrp_cor=\"http://disclosure.edinet-fsa.go.jp/taxonomy/jpcrp/2022-11-01/jpcrp_cor\" xmlns:jpdei_cor=\"http://disclosure.edinet-fsa.go.jp/taxonomy/jpdei/2013-08-31/jpdei_cor\" xmlns:jpigp_cor=\"http://disclosure.edinet-fsa.go.jp/taxonomy/jpigp/2022-11-01/jpigp_cor\" xmlns:jppfs_cor=\"http://disclosure.edinet-fsa.go.jp/taxonomy/jppfs/2022-11-01/jppfs_cor\" xmlns:link=\"http://www.xbrl.org/2003/linkbase\" xmlns:xbrldi=\"http://xbrl.org/2006/xbrldi\" xmlns:xbrli=\"http://www.xbrl.org/2003/instance\" xmlns:xlink=\"http://www.w3.org/1999/xlink\" xmlns:xsi=\"http://www.w3.org/2001/XMLSchema-instance\">\n",
      "  <link:schemaRef xlink:href=\"jpcrp030000-asr-001_E01739-000_2023-03-31_01_2023-06-29.xsd\" xlink:type=\"simple\"/>\n",
      "  <link:roleRef roleURI=\"http://disclosure.edinet-fsa.go.jp/role/jppfs/rol_StatementOfIncome\" xlink:href=\"http://disclosure.edinet-fsa.go.jp/taxonomy/jppfs/2022-11-01/jppfs_rt_2022-11-01.xsd#rol_StatementOfIncome\" xlink:type=\"simple\"/>\n",
      "  <link:roleRef roleURI=\"http://disclosure.edinet-fsa.go.jp/role/jppfs/role/NotesNumber\" xlink:href=\"http://disclosure.edinet-fsa.go.jp/taxonomy/jppfs/2022-11-01/jppfs_rt_2022-11-01.xsd#rol_NotesNumber\" xlink:type=\"simple\"/>\n",
      "  <xbrli:context id=\"CurrentYearInstant_Row58Member\">\n",
      "<xbrli:entity>\n",
      "<xbrli:identifier scheme=\"http://disclosure.edinet-fsa.go.jp\">E01739-000</xbrli:identifier>\n",
      "</xbrli:entity>\n",
      "<xbrli:period>\n",
      "\n"
     ]
    }
   ],
   "source": [
    "#有価証券報告書XBRLから\n",
    "\n",
    "#インプットファイル\n",
    "f= open('data/XBRL/jpcrp030000-asr-001_E01739-000_2023-03-31_01_2023-06-29.xbrl', encoding=\"utf-8\")\n",
    "text = f.read()\n",
    "f.close\n",
    "#jpcrp030000-asr-001_E01739-000_2023-03-31_01_2023-06-29.xbrl\n",
    "#jpcrp030000-asr-001_E01867-000_2023-12-31_01_2024-03-29.xbrl\n",
    "#jpcrp030000-asr-001_E01914-000_2023-03-31_01_2023-06-29.xbrl\n",
    "#jpcrp030000-asr-001_E01946-000_2023-03-31_01_2023-06-30.xbrl\n",
    "#jpcrp030000-asr-001_E02054-000_2023-12-31_01_2024-03-29.xbrl\n",
    "#jpcrp030000-asr-001_E02140-000_2023-03-31_01_2023-06-30.xbrl\n",
    "#jpcrp030000-asr-001_E02274-000_2023-12-31_01_2024-03-28.xbrl\n",
    "#jpcrp030000-asr-001_E36091-000_2023-12-31_01_2024-03-25.xbrl\n",
    "\n",
    "with open('data/XBRL/jpcrp030000-asr-001_E01739-000_2023-03-31_01_2023-06-29.xbrl', encoding=\"utf-8\") as f:\n",
    "    first_lines = ''.join(f.readlines()[:10])  # ここでは先頭行数を表示\n",
    "    print(first_lines)\n",
    "\n"
   ]
  },
  {
   "cell_type": "code",
   "execution_count": 34,
   "id": "304c238a-ddd3-41d4-955f-05555a5c8033",
   "metadata": {},
   "outputs": [
    {
     "name": "stdout",
     "output_type": "stream",
     "text": [
      "\n",
      "（3）戦略当社グループは、第２事業の状況　１経営方針、経営環境及び対処すべき課題等に記載の基本方針、経営戦略に基づき事業活動を行っています。当該基本方針、経営戦略に基づく事業活動のうち、以下の諸施策は、「環境」「社会」の観点で社会課題解決に資するものと考え、関連する各部門にて取組みを推進しています。・消費電力が低い「DCブラシレスモーター」を採用した扇風機（GreenFanシリーズ）の拡販・設計・製造・品質保証プロセスの継続的改善（生産性向上、歩留まり改善、製品不良率低減等）・適切な在庫管理（発注数量の適正化、物流最適化等）・梱包資材の簡素化、脱プラスチック・DX推進による業務効率化・再生可能エネルギー事業への将来的な参入（小型風力発電機の実証実験中）・人的資本・多様性に関する諸施策（以下(4)にて詳述） \n"
     ]
    }
   ],
   "source": [
    "from lxml import etree\n",
    "import re\n",
    "\n",
    "def extract_text_from_xbrl(xbrl_file_path, tag_name):\n",
    "    # XBRLドキュメントをパースする\n",
    "    tree = etree.parse(xbrl_file_path)\n",
    "\n",
    "    # 指定のタグ名で囲まれた要素を探す\n",
    "    elements = tree.xpath(f\"//*[local-name()='{tag_name}']\")\n",
    "    \n",
    "    # テキストを抽出してリストに格納\n",
    "    text_blocks = [element.text for element in elements]\n",
    "    \n",
    "    return text_blocks\n",
    "\n",
    "# XBRLドキュメントのパスとタグ名を指定してテキストを抽出\n",
    "#xbrl_file_name=\"jpcrp030000-asr-001_E01739-000_2023-03-31_01_2023-06-29.xbrl\"\n",
    "#xbrl_file_name=\"jpcrp030000-asr-001_E01867-000_2023-12-31_01_2024-03-29.xbrl\"\n",
    "#xbrl_file_name=\"jpcrp030000-asr-001_E01914-000_2023-03-31_01_2023-06-29.xbrl\"\n",
    "#xbrl_file_name=\"jpcrp030000-asr-001_E01914-000_2023-03-31_01_2023-06-29.xbrl\"\n",
    "#xbrl_file_name=\"jpcrp030000-asr-001_E02054-000_2023-12-31_01_2024-03-29.xbrl\"\n",
    "#xbrl_file_name=\"jpcrp030000-asr-001_E02140-000_2023-03-31_01_2023-06-30.xbrl\"\n",
    "#xbrl_file_name=\"jpcrp030000-asr-001_E02274-000_2023-12-31_01_2024-03-28.xbrl\"\n",
    "xbrl_file_name=\"jpcrp030000-asr-001_E36091-000_2023-12-31_01_2024-03-25.xbrl\"\n",
    "\n",
    "xbrl_file_path=\"data/XBRL/\"+xbrl_file_name\n",
    "\n",
    "#tag_name=\"StrategyClimateChangeTextBlock\"\n",
    "tag_name=\"StrategyTextBlock\"#E02140,E02274,E36091\n",
    "\n",
    "#tag_name=\"StrategyRecommendationsOfTCFDTextBlock\"#E01739 \n",
    "\n",
    "text_blocks = extract_text_from_xbrl(xbrl_file_path, tag_name)\n",
    "\n",
    "# テキストを表示\n",
    "for text_block in text_blocks:\n",
    "    text_block=re.sub(r'<.*?>', '', text_block)  \n",
    "    text_block=re.sub(r'\\n+', '\\n', text_block)  \n",
    "    print(text_block)\n"
   ]
  },
  {
   "cell_type": "code",
   "execution_count": null,
   "id": "6c45f436-7d33-4488-9d41-caf8e9be7441",
   "metadata": {},
   "outputs": [],
   "source": []
  }
 ],
 "metadata": {
  "kernelspec": {
   "display_name": "Python 3 (ipykernel)",
   "language": "python",
   "name": "python3"
  },
  "language_info": {
   "codemirror_mode": {
    "name": "ipython",
    "version": 3
   },
   "file_extension": ".py",
   "mimetype": "text/x-python",
   "name": "python",
   "nbconvert_exporter": "python",
   "pygments_lexer": "ipython3",
   "version": "3.8.19"
  }
 },
 "nbformat": 4,
 "nbformat_minor": 5
}
