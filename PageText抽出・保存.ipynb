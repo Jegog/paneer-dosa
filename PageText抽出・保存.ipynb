{
 "cells": [
  {
   "cell_type": "code",
   "execution_count": 1,
   "id": "38568c6e-9028-406a-ba1e-69f937c2793c",
   "metadata": {},
   "outputs": [],
   "source": [
    "#統合報告書のPDF全体を読み込み、PYTHONのインデックス番号と一緒に格納・出力\n",
    "#（生データとして読込、テキスト処理はなし）\n",
    "# テキストをリスト単位で取り込み、リスト単位で形態素解析\n",
    "import pandas as pd\n",
    "#import MeCab\n",
    "import fitz\n",
    "import re\n",
    "import sys\n",
    "sys.path.append('/work_dir') \n",
    "#import talknize_module as tk\n",
    "import csv\n"
   ]
  },
  {
   "cell_type": "code",
   "execution_count": 2,
   "id": "c299c788-0954-4444-93ea-a7b4deb9cb44",
   "metadata": {},
   "outputs": [],
   "source": [
    "security_code='69020'\n",
    "company_name='デンソー'\n",
    "#doc_name='annual-report-doc-2024-printing-ja.pdf'\n",
    "doc_name='annual-report-doc-2024-viewing-ja.pdf'\n"
   ]
  },
  {
   "cell_type": "code",
   "execution_count": 3,
   "id": "149a5c65-d069-4d51-922c-19aab49b748f",
   "metadata": {},
   "outputs": [
    {
     "name": "stdout",
     "output_type": "stream",
     "text": [
      "    page_index PDF_page1 PDF_page2  \\\n",
      "0            0                       \n",
      "1            1                       \n",
      "2            2                       \n",
      "3            3                       \n",
      "4            4                       \n",
      "..         ...       ...       ...   \n",
      "57          57                       \n",
      "58          58                       \n",
      "59          59                       \n",
      "60          60                       \n",
      "61          61                       \n",
      "\n",
      "                                                 text ValueCreation IP  \\\n",
      "0                             統合報告書2024\\n2024 年3 月期\\n                    \n",
      "1   代表取締役副社長 \\nCFO\\n松井 靖\\nデンソー基本理念\\n世界と未来をみつめ\\n新しい...                    \n",
      "2   2\\nDENSO Integrated Report 2024\\n3\\n  52\\t\\n人的...                    \n",
      "3    売上収益構成比率 \\n2024年3月31日時点\\nデンソーは、\\n社是の精神に基づき、\\n...                    \n",
      "4   代表取締役社長 CEO\\n林 新之助\\nCEO MESSAGE\\n「企業の存在意義」\\n \\...                    \n",
      "..                                                ...           ... ..   \n",
      "57  コーポレートガバナンス\\nコーポレートガバナンス\\nコンプライアンス \\n基本的な考え方\\n...                    \n",
      "58  コーポレートデータ\\nコーポレートデータ\\n売上収益／営業利益／営業利益率 \\n \\n（億円...                    \n",
      "59  10カ年データ\\nIFRS\\nIFRS\\n（年度）\\n2014\\n2015\\n2016\\n2...                    \n",
      "60  会社概要\\n社名\\n株式会社デンソー\\n設立\\n1949年12月16日\\n資本金\\n1,87...                    \n",
      "61                                 Printed in Japan\\n                    \n",
      "\n",
      "   Management  \n",
      "0              \n",
      "1              \n",
      "2              \n",
      "3              \n",
      "4              \n",
      "..        ...  \n",
      "57             \n",
      "58             \n",
      "59             \n",
      "60             \n",
      "61             \n",
      "\n",
      "[62 rows x 7 columns]\n"
     ]
    }
   ],
   "source": [
    "open_file = 'ir/' + str(security_code) + '_' + company_name + '/' + doc_name\n",
    "doc = fitz.open(open_file) \n",
    "\n",
    "# ページ単位でテキストをリストに格納\n",
    "page_text = []\n",
    "for i, page in enumerate(doc, start=0):  # ページ番号を0から始める\n",
    "    text = page.get_text()  # プレーンテキストを取得\n",
    "    #text = re.sub(r'。', '。\\n', re.sub(r'\\n', '', text))  # 改行処理\n",
    "    page_text.append({'page_index': i, 'PDF_page1':'', 'PDF_page2':'', 'text': text, 'ValueCreation': '', 'IP': '', 'Management':''})\n",
    "\n",
    "df_pdf_text = pd.DataFrame(page_text)\n",
    "print(df_pdf_text)"
   ]
  },
  {
   "cell_type": "code",
   "execution_count": 4,
   "id": "a2c50efa-ad80-43ec-b11f-30dd36404664",
   "metadata": {},
   "outputs": [],
   "source": [
    "file_name_page_text = 'output/Page_text_'+ str(security_code) + '_' + company_name +'-2.csv'\n",
    "df_pdf_text.to_csv(file_name_page_text, encoding=\"utf_8_sig\", index=False)"
   ]
  },
  {
   "cell_type": "code",
   "execution_count": null,
   "id": "45cb4e47-bbc5-49b5-b383-92fb0b28ddbd",
   "metadata": {},
   "outputs": [],
   "source": []
  }
 ],
 "metadata": {
  "kernelspec": {
   "display_name": "Python 3 (ipykernel)",
   "language": "python",
   "name": "python3"
  },
  "language_info": {
   "codemirror_mode": {
    "name": "ipython",
    "version": 3
   },
   "file_extension": ".py",
   "mimetype": "text/x-python",
   "name": "python",
   "nbconvert_exporter": "python",
   "pygments_lexer": "ipython3",
   "version": "3.8.19"
  }
 },
 "nbformat": 4,
 "nbformat_minor": 5
}
