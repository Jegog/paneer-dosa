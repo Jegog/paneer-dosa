{
 "cells": [
  {
   "cell_type": "code",
   "execution_count": 1,
   "id": "8a2b7d7f-6bb7-491d-b46f-f29f165d3b61",
   "metadata": {},
   "outputs": [],
   "source": [
    "# テキストをリスト単位で取り込み、リスト単位で形態素解析\n",
    "import pandas as pd\n",
    "import fitz\n",
    "import re\n",
    "import sys\n",
    "sys.path.append('/work_dir') \n",
    "import csv"
   ]
  },
  {
   "cell_type": "code",
   "execution_count": 2,
   "id": "aa83d811-b166-46ee-9d45-ae6b9ad08f0a",
   "metadata": {},
   "outputs": [],
   "source": [
    "#以降、Wordlist/WordcloudとCentrality,Network図作成\n",
    "from collections import Counter\n",
    "import pandas as pd\n",
    "import itertools\n",
    "import datetime\n",
    "\n",
    "#ファイル出力時に使用する年月日文字列の取得（全処理共通）\n",
    "# 現在の日付と時刻を取得\n",
    "now = datetime.datetime.now()\n",
    "# 年月日と時刻の文字列を生成\n",
    "date_time_string = now.strftime(\"%Y%m%d-%H%M%S\")"
   ]
  },
  {
   "cell_type": "code",
   "execution_count": 3,
   "id": "52bf78ce-c9f9-49ce-8420-abba7d53bb29",
   "metadata": {},
   "outputs": [
    {
     "name": "stdout",
     "output_type": "stream",
     "text": [
      "                                   発明者(最新)\n",
      "0                 [成瀬  丈智, 佐原  昭慶, 落合  貴之]\n",
      "1                                 [落合  貴之]\n",
      "2                                 [落合  貴之]\n",
      "3                                 [落合  貴之]\n",
      "4  [栗林  明, 池田  靖彦, 藤林  充幸, 落合  貴之, 北畠  健二]\n"
     ]
    }
   ],
   "source": [
    "import pandas as pd\n",
    "\n",
    "# ファイルのパス\n",
    "file_path = 'data/Patent2.csv'\n",
    "\n",
    "# CSVファイルをshift_jisエンコーディングで読み込む\n",
    "data = pd.read_csv(file_path, encoding='shift_jis')\n",
    "\n",
    "# '発明者(最新)'カラムのデータを'|'ごとに区切り、サブリストに格納\n",
    "data['発明者(最新)'] = data['発明者(最新)'].apply(lambda x: x.split('|'))\n",
    "\n",
    "# 結果を表示（最初の数行）\n",
    "print(data[['発明者(最新)']].head())"
   ]
  },
  {
   "cell_type": "code",
   "execution_count": 4,
   "id": "2cc997ae-c7b2-48f7-b65f-af06c47f221f",
   "metadata": {},
   "outputs": [],
   "source": [
    "#各文中の、形態素組み合わせを作る\n",
    "sentences_combs = [list(itertools.combinations(sentence,2)) for sentence in data['発明者(最新)']]\n",
    "#print(sentences_combs[0])\n",
    "\n",
    "#組み合わせた2つの形態素の並びをソート\n",
    "words_combs = [[tuple(sorted(words)) for words in sentence] for sentence in sentences_combs]\n",
    "#print(words_combs[0][:30])\n",
    "target_combs = []\n",
    "for words_comb in words_combs:\n",
    "    target_combs.extend(words_comb)\n",
    "ct = Counter(target_combs)\n",
    "#print(ct)\n",
    "df = pd.DataFrame([{\"1番目\" : i[0][0], \"2番目\": i[0][1], \"count\":i[1]} for i in ct.most_common()])\n",
    "\n",
    "#ファイル出力\n",
    "#file_name_comb = f\"output/{company_code}_{company_name}_{date_time_string}_Co_Occurrence.csv\"\n",
    "#df.to_csv(file_name_comb, encoding=\"utf_8_sig\", index=False)"
   ]
  },
  {
   "cell_type": "code",
   "execution_count": 5,
   "id": "337a1ceb-7742-42cc-9e81-6644e978b506",
   "metadata": {},
   "outputs": [],
   "source": [
    "#ネットワーク分析の下準備\n",
    "import networkx as nx\n",
    "from networkx.algorithms.community import girvan_newman\n",
    "import network_plot_module as npm\n",
    "import json\n",
    "\n",
    "#########################################################\n",
    "# 分析対象とする共起単語の組み合わせ数（ノード数）を指定\n",
    "analyzed_links=500\n",
    "limited_df=df.head(analyzed_links)\n",
    "#########################################################\n",
    "# DataFrameからネットワークを作成\n",
    "G = nx.from_pandas_edgelist(limited_df, '1番目', '2番目', ['count'])\n"
   ]
  },
  {
   "cell_type": "code",
   "execution_count": 6,
   "id": "f56be796-3b6a-475b-911a-fd20bd5af3a0",
   "metadata": {},
   "outputs": [],
   "source": [
    "# 各ノードの中心性を計算\n",
    "try:\n",
    "    degree_centrality = nx.degree_centrality(G)\n",
    "except:\n",
    "    degree_centrality = {node: '' for node in G.nodes()}\n",
    "    \n",
    "try:\n",
    "    betweenness_centrality = nx.betweenness_centrality(G)\n",
    "except:\n",
    "    betweenness_centrality = {node: '' for node in G.nodes()}\n",
    "\n",
    "try:\n",
    "    closeness_centrality = nx.closeness_centrality(G)\n",
    "except:\n",
    "    closeness_centrality = {node: '' for node in G.nodes()}\n",
    "\n",
    "try:\n",
    "    eigenvector_centrality = nx.eigenvector_centrality(G)\n",
    "except:\n",
    "    eigenvector_centrality = {node: '' for node in G.nodes()}\n",
    "\n",
    "try:\n",
    "    katz_centrality = nx.katz_centrality(G)\n",
    "except:\n",
    "    katz_centrality = {node: '' for node in G.nodes()}\n",
    "\n",
    "# Girvan-Newmanアルゴリズムでコミュニティに分割\n",
    "comp = girvan_newman(G)\n",
    "communities = tuple(sorted(c) for c in next(comp))\n",
    "\n",
    "# 各ノードがどのコミュニティに属するかを記録\n",
    "community_map = {}\n",
    "for i, community in enumerate(communities):\n",
    "    for node in community:\n",
    "        community_map[node] = i\n",
    "\n",
    "# 中心性を新しいデータフレームに格納\n",
    "centrality_df = pd.DataFrame({\n",
    "    'Node': list(G.nodes()),\n",
    "    'Degree Centrality': [degree_centrality[node] for node in G.nodes()],\n",
    "    'Betweenness Centrality': [betweenness_centrality[node] for node in G.nodes()],\n",
    "    'Closeness Centrality': [closeness_centrality[node] for node in G.nodes()],\n",
    "    'Eigenvector Centrality': [eigenvector_centrality[node] for node in G.nodes()],\n",
    "#    'Katz Centrality': [katz_centrality[node] for node in G.nodes()],\n",
    "    'Community': [community_map[node] for node in G.nodes()]  # コミュニティ情報を追加\n",
    "    })\n",
    "#print(centrality_df)\n",
    "\n",
    "file_name_comb = f\"output/{date_time_string}_Inventors_Centrality_{analyzed_links}.csv\"\n",
    "centrality_df.to_csv(file_name_comb, encoding=\"utf_8_sig\", index=False)"
   ]
  },
  {
   "cell_type": "code",
   "execution_count": 7,
   "id": "29acff30-e344-4194-a2be-8995572eb0de",
   "metadata": {},
   "outputs": [
    {
     "data": {
      "text/html": [
       "\n",
       "        <iframe\n",
       "            width=\"95%\"\n",
       "            height=\"1000px\"\n",
       "            src=\"output/20240706-175144_Inventors＿kyoki_500.html\"\n",
       "            frameborder=\"0\"\n",
       "            allowfullscreen\n",
       "            \n",
       "        ></iframe>\n",
       "        "
      ],
      "text/plain": [
       "<IPython.lib.display.IFrame at 0x7f119c9c0c10>"
      ]
     },
     "execution_count": 7,
     "metadata": {},
     "output_type": "execute_result"
    }
   ],
   "source": [
    "#ネットワーク図を描画、ファイル出力\n",
    "got_net = npm.kyoki_word_network(limited_df)\n",
    "#フィルタボタンを表示させる場合は、set_optionを無効にする必要あり\n",
    "#got_net.show_buttons(filter_=['physics'])\n",
    "got_net.set_options(\"\"\"\n",
    "const options = {\n",
    "  \"physics\": {\n",
    "    \"forceAtlas2Based\": {\n",
    "      \"centralGravity\": 0.05,\n",
    "      \"springLength\": 25,\n",
    "      \"springConstant\": 0.1\n",
    "    },\n",
    "    \"minVelocity\": 0.75,\n",
    "    \"solver\": \"forceAtlas2Based\"\n",
    "  }\n",
    "}\n",
    "\"\"\")\n",
    "file_name_kyoki = f'output/{date_time_string}_Inventors_kyoki_{analyzed_links}.html'\n",
    "got_net.show(file_name_kyoki)\n"
   ]
  },
  {
   "cell_type": "code",
   "execution_count": null,
   "id": "b040027f-c86f-472e-b062-0b3a71f7f237",
   "metadata": {},
   "outputs": [],
   "source": []
  }
 ],
 "metadata": {
  "kernelspec": {
   "display_name": "Python 3 (ipykernel)",
   "language": "python",
   "name": "python3"
  },
  "language_info": {
   "codemirror_mode": {
    "name": "ipython",
    "version": 3
   },
   "file_extension": ".py",
   "mimetype": "text/x-python",
   "name": "python",
   "nbconvert_exporter": "python",
   "pygments_lexer": "ipython3",
   "version": "3.8.19"
  }
 },
 "nbformat": 4,
 "nbformat_minor": 5
}
