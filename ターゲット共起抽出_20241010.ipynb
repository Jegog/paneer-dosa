{
 "cells": [
  {
   "cell_type": "code",
   "execution_count": 1,
   "id": "2d7bf95a-e426-4cf9-9d1f-2d40d3ab9ab3",
   "metadata": {},
   "outputs": [
    {
     "name": "stdout",
     "output_type": "stream",
     "text": [
      "      1番目  2番目  count\n",
      "589  ROIC  新製品      1\n"
     ]
    }
   ],
   "source": [
    "import pandas as pd\n",
    "import numpy as np\n",
    "#import re\n",
    "\n",
    "# Load CSV files into pandas DataFrames\n",
    "#target_folder ='output/Denso/'\n",
    "target_folder ='output/'\n",
    "\n",
    "keywords1 ='Keywords1.csv'\n",
    "keywords2 ='Keywords2.csv'\n",
    "\n",
    "#target_file ='69020_デンソー_20241008-170643_Co_Occurrence.csv'#Value n=350\n",
    "#target_file ='69020_デンソー_20241008-170737_Co_Occurrence.csv'#IP\n",
    "#target_file ='69020_デンソー_20241008-170504_Co_Occurrence.csv'#Management\n",
    "#target_file ='69020_デンソー_20241011-101723_Co_Occurrence.csv'#Value n=800\n",
    "#target_file ='__20241111-151605_Co_Occurrence.csv'#オリジナル\n",
    "#target_file ='__20241111-153314_Co_Occurrence.csv'#参考案\n",
    "#target_file ='__20241111-153529_Co_Occurrence.csv'#参考案2\n",
    "target_file ='__20241111-154250_Co_Occurrence.csv'#参考案old\n",
    "\n",
    "\n",
    "\n",
    "filename = target_folder + target_file\n",
    "ourput_filename = target_folder +target_file.replace('.csv','') +'_filtered.csv'\n",
    "\n",
    "df_dt = pd.read_csv(filename)\n",
    "df_k1 = pd.read_csv(target_folder + keywords1)\n",
    "df_k2 = pd.read_csv(target_folder + keywords2)\n",
    "\n",
    "# Merge df_dt with df_k1 and df_k2 using '1番目' or '2番目' as match keys\n",
    "# Merge for Keywords1\n",
    "df_merge_k1 = pd.merge(df_dt, df_k1, how='left', left_on='1番目', right_on='keyword', suffixes=('', '_k1_1'))\n",
    "df_merge_k1 = pd.merge(df_merge_k1, df_k1, how='left', left_on='2番目', right_on='keyword', suffixes=('', '_k1_2'))\n",
    "\n",
    "# Merge for Keywords2\n",
    "df_merge_k2 = pd.merge(df_merge_k1, df_k2, how='left', left_on='1番目', right_on='keyword', suffixes=('', '_k2_1'))\n",
    "df_merge_k2 = pd.merge(df_merge_k2, df_k2, how='left', left_on='2番目', right_on='keyword', suffixes=('', '_k2_2'))\n",
    "\n",
    "# Create flag columns for Keywords1 and Keywords2\n",
    "df_merge_k2['flag_k1'] = np.where((df_merge_k2['keyword'].notna()) | (df_merge_k2['keyword_k1_2'].notna()), 1, 0)\n",
    "df_merge_k2['flag_k2'] = np.where((df_merge_k2['keyword_k2_1'].notna()) | (df_merge_k2['keyword_k2_2'].notna()), 1, 0)\n",
    "\n",
    "# Filter rows where both flag_k1 and flag_k2 are 1\n",
    "filtered_df = df_merge_k2[(df_merge_k2['flag_k1'] == 1) & (df_merge_k2['flag_k2'] == 1)]\n",
    "\n",
    "# Select and rename columns (similar to SELECT in SQL)\n",
    "result_df = filtered_df[['1番目', '2番目', 'count']]#, 'flag_k1', 'flag_k2']]\n",
    "\n",
    "# Save or display the result\n",
    "print(result_df.head(50))  # To display the top rows\n",
    "result_df.to_csv(ourput_filename, index=False, encoding='utf-8-sig')  # Uncomment to save the result as CSV\n"
   ]
  },
  {
   "cell_type": "code",
   "execution_count": null,
   "id": "c6edf1cb-2bd2-4f5a-a23e-c881bb7dcf84",
   "metadata": {},
   "outputs": [],
   "source": []
  }
 ],
 "metadata": {
  "kernelspec": {
   "display_name": "Python 3 (ipykernel)",
   "language": "python",
   "name": "python3"
  },
  "language_info": {
   "codemirror_mode": {
    "name": "ipython",
    "version": 3
   },
   "file_extension": ".py",
   "mimetype": "text/x-python",
   "name": "python",
   "nbconvert_exporter": "python",
   "pygments_lexer": "ipython3",
   "version": "3.8.19"
  }
 },
 "nbformat": 4,
 "nbformat_minor": 5
}
