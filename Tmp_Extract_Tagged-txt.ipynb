{
 "cells": [
  {
   "cell_type": "code",
   "execution_count": null,
   "id": "79d4094c-e37c-471d-864c-60c43dd9c967",
   "metadata": {},
   "outputs": [],
   "source": [
    "import xml.etree.ElementTree as ET\n",
    "import html\n",
    "import re\n",
    "import pandas as pd\n",
    "\n",
    "def load_target_keywords(csv_path):\n",
    "    df = pd.read_csv(csv_path)\n",
    "    # target==1のkeywordのみ抽出してリスト化\n",
    "    target_keywords = df.loc[df['target'] == 1, 'keyword'].dropna().tolist()\n",
    "    return target_keywords\n",
    "\n",
    "def extract_content_by_keywords(xml_path, keywords):\n",
    "    tree = ET.parse(xml_path)\n",
    "    root = tree.getroot()\n",
    "\n",
    "    collected_text = []\n",
    "\n",
    "    for page in root.findall('page'):\n",
    "        tag_elem = page.find('tag')\n",
    "        content_elem = page.find('content')\n",
    "\n",
    "        if tag_elem is not None:\n",
    "            tag_text = html.unescape(tag_elem.text)  # ←ここがポイント！\n",
    "\n",
    "            if any(k in tag_text for k in keywords):\n",
    "                raw_text = content_elem.text\n",
    "                if raw_text:\n",
    "                    decoded_text = html.unescape(raw_text)\n",
    "                    cdata_match = re.search(r'<!\\[CDATA\\[(.*?)\\]\\]>', decoded_text, re.DOTALL)\n",
    "                    if cdata_match:\n",
    "                        collected_text.append(cdata_match.group(1).strip())\n",
    "\n",
    "    return '\\n\\n'.join(collected_text)\n",
    "\n",
    "# --- 使用例 ---\n",
    "xml_file = \"ir/2025/20020_日清製粉グループ本社/Gx5z.xml\"\n",
    "csv_file = \"ir/2025/20020_日清製粉グループ本社/info/target_tag.csv\"\n",
    "\n",
    "# CSVから対象キーワードを読み込み\n",
    "keywords = load_target_keywords(csv_file)\n",
    "\n",
    "# XMLからテキスト抽出\n",
    "output_text = extract_content_by_keywords(xml_file, keywords)\n",
    "\n",
    "# 出力\n",
    "print(output_text)\n",
    "\n",
    "# 必要に応じてファイル出力\n",
    "#with open(\"extracted_text.txt\", \"w\", encoding=\"utf-8\") as f:\n",
    "#    f.write(output_text)\n"
   ]
  }
 ],
 "metadata": {
  "kernelspec": {
   "display_name": "Python 3 (ipykernel)",
   "language": "python",
   "name": "python3"
  },
  "language_info": {
   "codemirror_mode": {
    "name": "ipython",
    "version": 3
   },
   "file_extension": ".py",
   "mimetype": "text/x-python",
   "name": "python",
   "nbconvert_exporter": "python",
   "pygments_lexer": "ipython3",
   "version": "3.8.20"
  }
 },
 "nbformat": 4,
 "nbformat_minor": 5
}
