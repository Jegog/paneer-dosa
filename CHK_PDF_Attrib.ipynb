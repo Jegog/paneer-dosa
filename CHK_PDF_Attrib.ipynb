{
 "cells": [
  {
   "cell_type": "code",
   "execution_count": 1,
   "id": "28bd461c-22b6-43ab-b961-dcddc5ccb788",
   "metadata": {},
   "outputs": [
    {
     "name": "stdout",
     "output_type": "stream",
     "text": [
      "ir/20020_日清製粉グループ本社/NFMu.pdf\n",
      "ir/20020_日清製粉グループ本社/WJZN.pdf\n"
     ]
    },
    {
     "name": "stderr",
     "output_type": "stream",
     "text": [
      "The PDF <_io.BufferedReader name='ir/22690_明治ホールディングス/integratedreports-integrated_reports_2023_ja_all.pdf'> contains a metadata field indicating that it should not allow text extraction. Ignoring this field and proceeding. Use the check_extractable if you want to raise an error in this case\n"
     ]
    },
    {
     "name": "stdout",
     "output_type": "stream",
     "text": [
      "ir/22690_明治ホールディングス/integratedreports-integrated_reports_2023_ja_all.pdf\n"
     ]
    },
    {
     "name": "stderr",
     "output_type": "stream",
     "text": [
      "The PDF <_io.BufferedReader name='ir/22690_明治ホールディングス/integratedreports-integrated_reports_2023_ja_all_print.pdf'> contains a metadata field indicating that it should not allow text extraction. Ignoring this field and proceeding. Use the check_extractable if you want to raise an error in this case\n"
     ]
    },
    {
     "name": "stdout",
     "output_type": "stream",
     "text": [
      "ir/22690_明治ホールディングス/integratedreports-integrated_reports_2023_ja_all_print.pdf\n",
      "ir/25010_サッポロホールディングス/Indegrated%20report_2022.pdf\n",
      "ir/25030_キリンホールディングス/kirinreport2023.pdf\n",
      "ir/26070_不二製油グループ本社/fujioil_integrated_report2023_01.pdf\n",
      "ir/26070_不二製油グループ本社/fujioil_integrated_report2023_02.pdf\n",
      "ir/28020_味の素/ASV_Report_2023_J_A3.pdf\n",
      "ir/28020_味の素/ASV_Report_2023_J_A4.pdf\n",
      "ir/29140_日本たばこ産業/integrated2022_J_all.pdf\n",
      "ir/31010_東洋紡/TOYOBO%20REPORT%202023%203.pdf\n",
      "ir/34010_帝人/00.pdf\n",
      "ir/34070_旭化成/23jp.pdf\n"
     ]
    },
    {
     "name": "stderr",
     "output_type": "stream",
     "text": [
      "The PDF <_io.BufferedReader name='ir/38610_王子ホールディングス/2023_all_A3_ja.pdf'> contains a metadata field indicating that it should not allow text extraction. Ignoring this field and proceeding. Use the check_extractable if you want to raise an error in this case\n"
     ]
    },
    {
     "name": "stdout",
     "output_type": "stream",
     "text": [
      "ir/38610_王子ホールディングス/2023_all_A3_ja.pdf\n"
     ]
    },
    {
     "name": "stderr",
     "output_type": "stream",
     "text": [
      "The PDF <_io.BufferedReader name='ir/38610_王子ホールディングス/2023_all_A4_ja.pdf'> contains a metadata field indicating that it should not allow text extraction. Ignoring this field and proceeding. Use the check_extractable if you want to raise an error in this case\n"
     ]
    },
    {
     "name": "stdout",
     "output_type": "stream",
     "text": [
      "ir/38610_王子ホールディングス/2023_all_A4_ja.pdf\n"
     ]
    },
    {
     "name": "stderr",
     "output_type": "stream",
     "text": [
      "Data-loss while decompressing corrupted data\n",
      "The PDF <_io.BufferedReader name='ir/40040_レゾナック・ホールディングス/pdf-sustainability-report-integratedreport-RESONAC23J_spread.pdf'> contains a metadata field indicating that it should not allow text extraction. Ignoring this field and proceeding. Use the check_extractable if you want to raise an error in this case\n"
     ]
    },
    {
     "name": "stdout",
     "output_type": "stream",
     "text": [
      "ir/40040_レゾナック・ホールディングス/pdf-sustainability-report-integratedreport-RESONAC23J_spread.pdf\n",
      "ir/40050_住友化学/scr2023.pdf\n",
      "ir/40210_日産化学/ar2023.pdf\n",
      "ir/40230_クレハ/110_kurehareport.pdf\n",
      "ir/40250_多木化学/csr_report_2023.pdf\n",
      "ir/40280_石原産業/2023.pdf\n",
      "ir/40420_東ソー/report2023.pdf\n"
     ]
    },
    {
     "name": "stderr",
     "output_type": "stream",
     "text": [
      "The PDF <_io.BufferedReader name='ir/40440_セントラル硝子/rc_2023_all_forprint.pdf'> contains a metadata field indicating that it should not allow text extraction. Ignoring this field and proceeding. Use the check_extractable if you want to raise an error in this case\n"
     ]
    },
    {
     "name": "stdout",
     "output_type": "stream",
     "text": [
      "ir/40440_セントラル硝子/rc_2023_all_forprint.pdf\n",
      "ir/40630_信越化学工業/アニュアルレポート2023（印刷推奨）.pdf\n",
      "ir/40630_信越化学工業/アニュアルレポート2023（閲覧推奨）.pdf\n",
      "ir/40780_堺化学工業/envi_report2023-1.pdf\n"
     ]
    },
    {
     "name": "stderr",
     "output_type": "stream",
     "text": [
      "The PDF <_io.BufferedReader name='ir/40910_日本酸素ホールディングス/nippon-sanso-holdings-integrated-report_jp-full_2023.pdf'> contains a metadata field indicating that it should not allow text extraction. Ignoring this field and proceeding. Use the check_extractable if you want to raise an error in this case\n"
     ]
    },
    {
     "name": "stdout",
     "output_type": "stream",
     "text": [
      "ir/40910_日本酸素ホールディングス/nippon-sanso-holdings-integrated-report_jp-full_2023.pdf\n",
      "ir/40920_日本化学工業/detail?param=eyJjb250ZW50TnVtIjozODA2NDR9&detailFlg=0&pNo=1\n",
      "ir/41140_日本触媒/technoamenity_report_jp.pdf\n"
     ]
    },
    {
     "name": "stderr",
     "output_type": "stream",
     "text": [
      "The PDF <_io.BufferedReader name='ir/41180_カネカ/report2023b.pdf'> contains a metadata field indicating that it should not allow text extraction. Ignoring this field and proceeding. Use the check_extractable if you want to raise an error in this case\n"
     ]
    },
    {
     "name": "stdout",
     "output_type": "stream",
     "text": [
      "ir/41180_カネカ/report2023b.pdf\n",
      "ir/41510_協和キリン/integrated_report_2023.pdf\n"
     ]
    },
    {
     "name": "stderr",
     "output_type": "stream",
     "text": [
      "The PDF <_io.BufferedReader name='ir/41830_三井化学/ar23_all_jp_A4.pdf.coredownload.inline.pdf'> contains a metadata field indicating that it should not allow text extraction. Ignoring this field and proceeding. Use the check_extractable if you want to raise an error in this case\n"
     ]
    },
    {
     "name": "stdout",
     "output_type": "stream",
     "text": [
      "ir/41830_三井化学/ar23_all_jp_A4.pdf.coredownload.inline.pdf\n"
     ]
    },
    {
     "name": "stderr",
     "output_type": "stream",
     "text": [
      "The PDF <_io.BufferedReader name='ir/41830_三井化学/ar23_all_web_jp.pdf.coredownload.inline.pdf'> contains a metadata field indicating that it should not allow text extraction. Ignoring this field and proceeding. Use the check_extractable if you want to raise an error in this case\n"
     ]
    },
    {
     "name": "stdout",
     "output_type": "stream",
     "text": [
      "ir/41830_三井化学/ar23_all_web_jp.pdf.coredownload.inline.pdf\n",
      "ir/42020_ダイセル/daicel_report_2023_jp_mihiraki.pdf\n",
      "ir/42020_ダイセル/daicel_report_2023_jp_tan.pdf\n",
      "ir/42030_住友ベークライト/IR2023_full.pdf\n",
      "ir/42030_住友ベークライト/IR2023_sngl.pdf\n",
      "ir/42050_日本ゼオン/230929.pdf\n"
     ]
    },
    {
     "name": "stderr",
     "output_type": "stream",
     "text": [
      "The PDF <_io.BufferedReader name='ir/42720_日本化薬/00 (1).pdf'> contains a metadata field indicating that it should not allow text extraction. Ignoring this field and proceeding. Use the check_extractable if you want to raise an error in this case\n"
     ]
    },
    {
     "name": "stdout",
     "output_type": "stream",
     "text": [
      "ir/42720_日本化薬/00 (1).pdf\n"
     ]
    },
    {
     "name": "stderr",
     "output_type": "stream",
     "text": [
      "The PDF <_io.BufferedReader name='ir/42720_日本化薬/00.pdf'> contains a metadata field indicating that it should not allow text extraction. Ignoring this field and proceeding. Use the check_extractable if you want to raise an error in this case\n"
     ]
    },
    {
     "name": "stdout",
     "output_type": "stream",
     "text": [
      "ir/42720_日本化薬/00.pdf\n"
     ]
    },
    {
     "name": "stderr",
     "output_type": "stream",
     "text": [
      "The PDF <_io.BufferedReader name='ir/44030_日油/23all.pdf'> contains a metadata field indicating that it should not allow text extraction. Ignoring this field and proceeding. Use the check_extractable if you want to raise an error in this case\n"
     ]
    },
    {
     "name": "stdout",
     "output_type": "stream",
     "text": [
      "ir/44030_日油/23all.pdf\n",
      "ir/44520_花王/reports-fy2023j-all-001_01.pdf\n",
      "ir/44610_第一工業製薬/rc2023.pdf\n",
      "ir/44610_第一工業製薬/rc2023m.pdf\n",
      "ir/45020_武田薬品工業/Takeda_2023_Annual_Integrated_Report_JP.pdf\n",
      "ir/45030_アステラス製薬/astellas_ar2023_j_all_1006.pdf\n",
      "ir/45060_住友ファーマ/integrated_report2023_jpn.pdf\n",
      "ir/45190_中外製薬/jAR2022_12_single.pdf\n",
      "ir/45190_中外製薬/jAR2022_12_spread.pdf\n",
      "ir/45210_科研製薬/cr_2023.pdf\n",
      "ir/45230_エーザイ/pdf2023vcr.pdf\n",
      "ir/45230_エーザイ/pdf2023vcr_1.pdf\n",
      "ir/45270_ロート製薬/sp_m_ns_web_0906187892309.pdf\n",
      "ir/45280_小野薬品工業/2023_14_ja.pdf\n",
      "ir/45280_小野薬品工業/2023_15_ja.pdf\n",
      "ir/45300_久光製薬/Integrated_report2023.pdf\n",
      "ir/45300_久光製薬/Integrated_report2023_p.pdf\n",
      "ir/45340_持田製薬/ir2023.pdf\n",
      "ir/45340_持田製薬/ir2023_p.pdf\n",
      "ir/45360_参天製薬/ar2023.pdf\n",
      "ir/45430_テルモ/TR2023_all_single_J.pdf\n",
      "ir/45430_テルモ/TR2023_all_spread_J.pdf\n",
      "ir/45470_キッセイ薬品工業/20230914_IR23J.pdf\n",
      "ir/45680_第一三共/VR2023_JP_full.pdf\n",
      "ir/45690_杏林製薬/AR2023JA.pdf\n",
      "ir/45690_杏林製薬/AR2023JA_A4.pdf\n",
      "ir/45780_大塚ホールディングス/2022_all_a4.pdf\n",
      "ir/46120_日本ペイントホールディングス/IntegratedReport_2023_jp.pdf\n",
      "ir/46170_中国塗料/social_environmental_2023.pdf\n",
      "ir/46310_ＤＩＣ/dic_report_ja_2023_detail.pdf\n"
     ]
    },
    {
     "name": "stderr",
     "output_type": "stream",
     "text": [
      "The PDF <_io.BufferedReader name='ir/46330_サカタインクス/Integrated_Report_2023.pdf'> contains a metadata field indicating that it should not allow text extraction. Ignoring this field and proceeding. Use the check_extractable if you want to raise an error in this case\n"
     ]
    },
    {
     "name": "stdout",
     "output_type": "stream",
     "text": [
      "ir/46330_サカタインクス/Integrated_Report_2023.pdf\n"
     ]
    },
    {
     "name": "stderr",
     "output_type": "stream",
     "text": [
      "The PDF <_io.BufferedReader name='ir/49010_富士フイルムホールディングス/fh_2023_allj_a4.pdf'> contains a metadata field indicating that it should not allow text extraction. Ignoring this field and proceeding. Use the check_extractable if you want to raise an error in this case\n"
     ]
    },
    {
     "name": "stdout",
     "output_type": "stream",
     "text": [
      "ir/49010_富士フイルムホールディングス/fh_2023_allj_a4.pdf\n",
      "ir/49110_資生堂/report-jp.pdf\n",
      "ir/49120_ライオン/ir2023.pdf\n",
      "ir/49220_コーセー/report2023-all.pdf\n",
      "ir/49270_ポーラ・オルビスホールディングス/IntegratedReport2022_A3_s.pdf\n",
      "ir/49270_ポーラ・オルビスホールディングス/IntegratedReport2022_A4_s.pdf\n"
     ]
    },
    {
     "name": "stderr",
     "output_type": "stream",
     "text": [
      "The PDF <_io.BufferedReader name='ir/49280_ノエビアホールディングス/AR2023.pdf'> contains a metadata field indicating that it should not allow text extraction. Ignoring this field and proceeding. Use the check_extractable if you want to raise an error in this case\n"
     ]
    },
    {
     "name": "stdout",
     "output_type": "stream",
     "text": [
      "ir/49280_ノエビアホールディングス/AR2023.pdf\n"
     ]
    },
    {
     "name": "stderr",
     "output_type": "stream",
     "text": [
      "Data-loss while decompressing corrupted data\n",
      "Data-loss while decompressing corrupted data\n"
     ]
    },
    {
     "name": "stdout",
     "output_type": "stream",
     "text": [
      "ir/49960_クミアイ化学工業/ar2024_all.pdf\n"
     ]
    },
    {
     "name": "stderr",
     "output_type": "stream",
     "text": [
      "The PDF <_io.BufferedReader name='ir/50190_出光興産/00 (1).pdf'> contains a metadata field indicating that it should not allow text extraction. Ignoring this field and proceeding. Use the check_extractable if you want to raise an error in this case\n"
     ]
    },
    {
     "name": "stdout",
     "output_type": "stream",
     "text": [
      "ir/50190_出光興産/00 (1).pdf\n"
     ]
    },
    {
     "name": "stderr",
     "output_type": "stream",
     "text": [
      "The PDF <_io.BufferedReader name='ir/50190_出光興産/00.pdf'> contains a metadata field indicating that it should not allow text extraction. Ignoring this field and proceeding. Use the check_extractable if you want to raise an error in this case\n"
     ]
    },
    {
     "name": "stdout",
     "output_type": "stream",
     "text": [
      "ir/50190_出光興産/00.pdf\n",
      "ir/50200_ＥＮＥＯＳホールディングス/00.pdf\n",
      "ir/51010_横浜ゴム/sustainability2023_a3.pdf\n",
      "ir/51010_横浜ゴム/sustainability2023_a4.pdf\n"
     ]
    },
    {
     "name": "stderr",
     "output_type": "stream",
     "text": [
      "The PDF <_io.BufferedReader name='ir/51080_ブリヂストン/ir2023_single.pdf'> contains a metadata field indicating that it should not allow text extraction. Ignoring this field and proceeding. Use the check_extractable if you want to raise an error in this case\n"
     ]
    },
    {
     "name": "stdout",
     "output_type": "stream",
     "text": [
      "ir/51080_ブリヂストン/ir2023_single.pdf\n"
     ]
    },
    {
     "name": "stderr",
     "output_type": "stream",
     "text": [
      "The PDF <_io.BufferedReader name='ir/51080_ブリヂストン/ir2023_spread.pdf'> contains a metadata field indicating that it should not allow text extraction. Ignoring this field and proceeding. Use the check_extractable if you want to raise an error in this case\n"
     ]
    },
    {
     "name": "stdout",
     "output_type": "stream",
     "text": [
      "ir/51080_ブリヂストン/ir2023_spread.pdf\n",
      "ir/52320_住友大阪セメント/soc_InR_2023.pdf\n",
      "ir/53100_東洋炭素/00.pdf\n",
      "ir/53330_日本碍子/ngk2023.pdf\n",
      "ir/53330_日本碍子/ngk2023_a3.pdf\n",
      "ir/53340_日本特殊陶業/ir_integration_report_07.pdf\n",
      "ir/54010_日本製鉄/nsc_jp_ir_2023_all_a3.pdf\n",
      "ir/54010_日本製鉄/nsc_jp_ir_2023_all_a4.pdf\n",
      "ir/54060_神戸製鋼所/integrated-reports2023.pdf\n"
     ]
    },
    {
     "name": "stderr",
     "output_type": "stream",
     "text": [
      "The PDF <_io.BufferedReader name='ir/54110_ＪＦＥホールディングス/all.pdf'> contains a metadata field indicating that it should not allow text extraction. Ignoring this field and proceeding. Use the check_extractable if you want to raise an error in this case\n"
     ]
    },
    {
     "name": "stdout",
     "output_type": "stream",
     "text": [
      "ir/54110_ＪＦＥホールディングス/all.pdf\n"
     ]
    },
    {
     "name": "stderr",
     "output_type": "stream",
     "text": [
      "The PDF <_io.BufferedReader name='ir/54110_ＪＦＥホールディングス/all_A4.pdf'> contains a metadata field indicating that it should not allow text extraction. Ignoring this field and proceeding. Use the check_extractable if you want to raise an error in this case\n"
     ]
    },
    {
     "name": "stdout",
     "output_type": "stream",
     "text": [
      "ir/54110_ＪＦＥホールディングス/all_A4.pdf\n",
      "ir/57110_三菱マテリアル/00 (1).pdf\n",
      "ir/57110_三菱マテリアル/00.pdf\n",
      "ir/57270_東邦チタニウム/csr_2023.pdf\n",
      "ir/58020_住友電気工業/integratedreport2023.pdf\n"
     ]
    },
    {
     "name": "stderr",
     "output_type": "stream",
     "text": [
      "The PDF <_io.BufferedReader name='ir/60130_タクマ/CSR-report-2023.pdf'> contains a metadata field indicating that it should not allow text extraction. Ignoring this field and proceeding. Use the check_extractable if you want to raise an error in this case\n"
     ]
    },
    {
     "name": "stdout",
     "output_type": "stream",
     "text": [
      "ir/60130_タクマ/CSR-report-2023.pdf\n"
     ]
    },
    {
     "name": "stderr",
     "output_type": "stream",
     "text": [
      "The PDF <_io.BufferedReader name='ir/63260_クボタ/integratedreport2023-a3-full.pdf'> contains a metadata field indicating that it should not allow text extraction. Ignoring this field and proceeding. Use the check_extractable if you want to raise an error in this case\n"
     ]
    },
    {
     "name": "stdout",
     "output_type": "stream",
     "text": [
      "ir/63260_クボタ/integratedreport2023-a3-full.pdf\n"
     ]
    },
    {
     "name": "stderr",
     "output_type": "stream",
     "text": [
      "The PDF <_io.BufferedReader name='ir/63260_クボタ/integratedreport2023-a4-full.pdf'> contains a metadata field indicating that it should not allow text extraction. Ignoring this field and proceeding. Use the check_extractable if you want to raise an error in this case\n"
     ]
    },
    {
     "name": "stdout",
     "output_type": "stream",
     "text": [
      "ir/63260_クボタ/integratedreport2023-a4-full.pdf\n",
      "ir/63320_月島ホールディングス/Tlj1.pdf\n",
      "ir/63610_荏原製作所/INT23_a3_JP.pdf\n",
      "ir/63610_荏原製作所/INT23_a4_JP.pdf\n",
      "ir/63670_ダイキン工業/2023-pdf.pdf\n",
      "ir/63700_栗田工業/annual_2023.pdf\n",
      "ir/63700_栗田工業/annual_2023_print.pdf\n",
      "ir/63760_日機装/00.pdf\n",
      "ir/63760_日機装/01.pdf\n",
      "ir/64480_ブラザー工業/ful-a3-j.pdf\n",
      "ir/64480_ブラザー工業/ful-a4-j.pdf\n"
     ]
    },
    {
     "name": "stderr",
     "output_type": "stream",
     "text": [
      "The PDF <_io.BufferedReader name='ir/64720_ＮＴＮ/ntn_report2023.pdf'> contains a metadata field indicating that it should not allow text extraction. Ignoring this field and proceeding. Use the check_extractable if you want to raise an error in this case\n"
     ]
    },
    {
     "name": "stdout",
     "output_type": "stream",
     "text": [
      "ir/64720_ＮＴＮ/ntn_report2023.pdf\n",
      "ir/64900_日本ピラー工業/d9e72bba810b4c1e48ca3fc4744f4616256c365d.pdf\n",
      "ir/64900_日本ピラー工業/f83464b1deb7cafe7e2952247e65f0e5aea60438.pdf\n",
      "ir/65010_日立製作所/ar2023j.pdf\n"
     ]
    },
    {
     "name": "stderr",
     "output_type": "stream",
     "text": [
      "The PDF <_io.BufferedReader name='ir/65040_富士電機/all.pdf'> contains a metadata field indicating that it should not allow text extraction. Ignoring this field and proceeding. Use the check_extractable if you want to raise an error in this case\n"
     ]
    },
    {
     "name": "stdout",
     "output_type": "stream",
     "text": [
      "ir/65040_富士電機/all.pdf\n"
     ]
    },
    {
     "name": "stderr",
     "output_type": "stream",
     "text": [
      "The PDF <_io.BufferedReader name='ir/65040_富士電機/allA4.pdf'> contains a metadata field indicating that it should not allow text extraction. Ignoring this field and proceeding. Use the check_extractable if you want to raise an error in this case\n"
     ]
    },
    {
     "name": "stdout",
     "output_type": "stream",
     "text": [
      "ir/65040_富士電機/allA4.pdf\n",
      "ir/65250_ＫＯＫＵＳＡＩ　ＥＬＥＣＴＲＩＣ/download.pdf\n",
      "ir/66450_オムロン/OMRON_Integrated_Report_2023_jp_A4.pdf\n",
      "ir/66740_ジーエス・ユアサ　コーポレーション/GS_Yuasa_Report_2023.pdf\n",
      "ir/66740_ジーエス・ユアサ　コーポレーション/GS_Yuasa_Report_2023_A4.pdf\n",
      "ir/67010_日本電気/etsuran.pdf\n"
     ]
    },
    {
     "name": "stderr",
     "output_type": "stream",
     "text": [
      "ignore '/Perms' verify failed\n"
     ]
    },
    {
     "name": "stdout",
     "output_type": "stream",
     "text": [
      "ir/67020_富士通/integrated-report_2023_jp.pdf\n"
     ]
    },
    {
     "name": "stderr",
     "output_type": "stream",
     "text": [
      "The PDF <_io.BufferedReader name='ir/67240_セイコーエプソン/epson_ir2023_all_j.pdf'> contains a metadata field indicating that it should not allow text extraction. Ignoring this field and proceeding. Use the check_extractable if you want to raise an error in this case\n"
     ]
    },
    {
     "name": "stdout",
     "output_type": "stream",
     "text": [
      "ir/67240_セイコーエプソン/epson_ir2023_all_j.pdf\n",
      "ir/67270_ワコム/140120230509561790.pdf\n",
      "ir/67520_パナソニック　ホールディングス/pana_ar2023j_a4.pdf\n",
      "ir/67530_シャープ/annual_2023j.pdf\n",
      "ir/67530_シャープ/annual_2023j_int.pdf\n",
      "ir/67580_ソニーグループ/CorporateReport2023_J.pdf\n",
      "ir/67620_ＴＤＫ/integrated_report_pdf_2023_ja.pdf\n",
      "ir/68090_ＴＯＡ/00.pdf\n",
      "ir/68100_マクセル/MAX_IR23_J_interactive.pdf\n"
     ]
    },
    {
     "name": "stderr",
     "output_type": "stream",
     "text": [
      "The PDF <_io.BufferedReader name='ir/68140_古野電気/IR2023_jp_A3.pdf'> contains a metadata field indicating that it should not allow text extraction. Ignoring this field and proceeding. Use the check_extractable if you want to raise an error in this case\n"
     ]
    },
    {
     "name": "stdout",
     "output_type": "stream",
     "text": [
      "ir/68140_古野電気/IR2023_jp_A3.pdf\n"
     ]
    },
    {
     "name": "stderr",
     "output_type": "stream",
     "text": [
      "The PDF <_io.BufferedReader name='ir/68140_古野電気/IR2023_jp_A4.pdf'> contains a metadata field indicating that it should not allow text extraction. Ignoring this field and proceeding. Use the check_extractable if you want to raise an error in this case\n"
     ]
    },
    {
     "name": "stdout",
     "output_type": "stream",
     "text": [
      "ir/68140_古野電気/IR2023_jp_A4.pdf\n",
      "ir/68410_横河電機/ir_2023yreports_facingpage.pdf\n",
      "ir/68410_横河電機/ir_2023yreports_singlepage.pdf\n",
      "ir/68560_堀場製作所/20230621_HR_jp.pdf\n",
      "ir/69520_カシオ計算機/integrated-2023-s.pdf\n",
      "ir/69520_カシオ計算機/integrated-2023.pdf\n",
      "ir/69630_ローム/JP_rohm_group_integrated_report_2023_view.pdf\n",
      "ir/69760_太陽誘電/hwNm.pdf\n",
      "ir/69760_太陽誘電/XSas.pdf\n"
     ]
    },
    {
     "name": "stderr",
     "output_type": "stream",
     "text": [
      "The PDF <_io.BufferedReader name='ir/69880_日東電工/2023_all.pdf'> contains a metadata field indicating that it should not allow text extraction. Ignoring this field and proceeding. Use the check_extractable if you want to raise an error in this case\n"
     ]
    },
    {
     "name": "stdout",
     "output_type": "stream",
     "text": [
      "ir/69880_日東電工/2023_all.pdf\n",
      "ir/70110_三菱重工業/report_2023.pdf\n",
      "ir/70110_三菱重工業/report_2023_a3.pdf\n",
      "ir/70120_川崎重工業/23_houkokusyo.pdf\n",
      "ir/70130_ＩＨＩ/integrated2023_all.pdf\n",
      "ir/72030_トヨタ自動車/2023_001_integrated_jp.pdf\n",
      "ir/72590_アイシン/aisin_ar2023_a3.pdf\n",
      "ir/72670_本田技研工業/Honda_Report_2023-jp-all.pdf\n",
      "ir/72700_ＳＵＢＡＲＵ/Ir2023j.pdf?_2023-11-20\n",
      "ir/72760_小糸製作所/KOITO_INTEGRATED_REPORT_2022_full.pdf\n"
     ]
    },
    {
     "name": "stderr",
     "output_type": "stream",
     "text": [
      "The PDF <_io.BufferedReader name='ir/77010_島津製作所/shimadzu_integrated_report_2023-r.pdf'> contains a metadata field indicating that it should not allow text extraction. Ignoring this field and proceeding. Use the check_extractable if you want to raise an error in this case\n"
     ]
    },
    {
     "name": "stdout",
     "output_type": "stream",
     "text": [
      "ir/77010_島津製作所/shimadzu_integrated_report_2023-r.pdf\n"
     ]
    },
    {
     "name": "stderr",
     "output_type": "stream",
     "text": [
      "The PDF <_io.BufferedReader name='ir/77010_島津製作所/shimadzu_integrated_report_2023.pdf'> contains a metadata field indicating that it should not allow text extraction. Ignoring this field and proceeding. Use the check_extractable if you want to raise an error in this case\n"
     ]
    },
    {
     "name": "stdout",
     "output_type": "stream",
     "text": [
      "ir/77010_島津製作所/shimadzu_integrated_report_2023.pdf\n",
      "ir/77350_ＳＣＲＥＥＮホールディングス/SCREEN_ARJ_2023.pdf\n",
      "ir/77350_ＳＣＲＥＥＮホールディングス/SCREEN_ARJ_2023_A4.pdf\n",
      "ir/77410_ＨＯＹＡ/online_report2023_jp.pdf\n",
      "ir/77470_朝日インテック/asahi-intecc_integrated-report_2023.pdf\n",
      "ir/77510_キヤノン/canon-int-2024-j.pdf\n",
      "ir/77520_リコー/all_J.pdf\n"
     ]
    },
    {
     "name": "stderr",
     "output_type": "stream",
     "text": [
      "Data-loss while decompressing corrupted data\n",
      "Data-loss while decompressing corrupted data\n",
      "Data-loss while decompressing corrupted data\n",
      "Data-loss while decompressing corrupted data\n",
      "Data-loss while decompressing corrupted data\n",
      "Data-loss while decompressing corrupted data\n",
      "Data-loss while decompressing corrupted data\n",
      "Data-loss while decompressing corrupted data\n",
      "Data-loss while decompressing corrupted data\n",
      "Data-loss while decompressing corrupted data\n",
      "Data-loss while decompressing corrupted data\n",
      "Data-loss while decompressing corrupted data\n",
      "Data-loss while decompressing corrupted data\n",
      "Data-loss while decompressing corrupted data\n",
      "Data-loss while decompressing corrupted data\n",
      "Data-loss while decompressing corrupted data\n",
      "Data-loss while decompressing corrupted data\n",
      "Data-loss while decompressing corrupted data\n",
      "Data-loss while decompressing corrupted data\n",
      "Data-loss while decompressing corrupted data\n",
      "Data-loss while decompressing corrupted data\n",
      "Data-loss while decompressing corrupted data\n",
      "Data-loss while decompressing corrupted data\n",
      "Data-loss while decompressing corrupted data\n",
      "Data-loss while decompressing corrupted data\n",
      "Data-loss while decompressing corrupted data\n",
      "Data-loss while decompressing corrupted data\n",
      "Data-loss while decompressing corrupted data\n",
      "Data-loss while decompressing corrupted data\n",
      "Data-loss while decompressing corrupted data\n",
      "Data-loss while decompressing corrupted data\n",
      "Data-loss while decompressing corrupted data\n",
      "Data-loss while decompressing corrupted data\n",
      "Data-loss while decompressing corrupted data\n",
      "Data-loss while decompressing corrupted data\n",
      "Data-loss while decompressing corrupted data\n",
      "Data-loss while decompressing corrupted data\n",
      "Data-loss while decompressing corrupted data\n",
      "Data-loss while decompressing corrupted data\n",
      "Data-loss while decompressing corrupted data\n",
      "Data-loss while decompressing corrupted data\n",
      "Data-loss while decompressing corrupted data\n",
      "Data-loss while decompressing corrupted data\n",
      "Data-loss while decompressing corrupted data\n",
      "Data-loss while decompressing corrupted data\n",
      "Data-loss while decompressing corrupted data\n",
      "Data-loss while decompressing corrupted data\n",
      "Data-loss while decompressing corrupted data\n",
      "Data-loss while decompressing corrupted data\n",
      "Data-loss while decompressing corrupted data\n",
      "Data-loss while decompressing corrupted data\n",
      "Data-loss while decompressing corrupted data\n",
      "Data-loss while decompressing corrupted data\n",
      "Data-loss while decompressing corrupted data\n",
      "Data-loss while decompressing corrupted data\n",
      "Data-loss while decompressing corrupted data\n",
      "Data-loss while decompressing corrupted data\n",
      "Data-loss while decompressing corrupted data\n",
      "Data-loss while decompressing corrupted data\n",
      "Data-loss while decompressing corrupted data\n",
      "Data-loss while decompressing corrupted data\n",
      "Data-loss while decompressing corrupted data\n",
      "Data-loss while decompressing corrupted data\n",
      "Data-loss while decompressing corrupted data\n",
      "Data-loss while decompressing corrupted data\n",
      "Data-loss while decompressing corrupted data\n",
      "Data-loss while decompressing corrupted data\n",
      "Data-loss while decompressing corrupted data\n",
      "Data-loss while decompressing corrupted data\n",
      "Data-loss while decompressing corrupted data\n",
      "Data-loss while decompressing corrupted data\n",
      "Data-loss while decompressing corrupted data\n",
      "Data-loss while decompressing corrupted data\n",
      "Data-loss while decompressing corrupted data\n",
      "Data-loss while decompressing corrupted data\n",
      "Data-loss while decompressing corrupted data\n",
      "Data-loss while decompressing corrupted data\n",
      "Data-loss while decompressing corrupted data\n",
      "Data-loss while decompressing corrupted data\n",
      "Data-loss while decompressing corrupted data\n",
      "Data-loss while decompressing corrupted data\n",
      "Data-loss while decompressing corrupted data\n",
      "Data-loss while decompressing corrupted data\n",
      "Data-loss while decompressing corrupted data\n",
      "Data-loss while decompressing corrupted data\n",
      "Data-loss while decompressing corrupted data\n",
      "Data-loss while decompressing corrupted data\n",
      "Data-loss while decompressing corrupted data\n",
      "Data-loss while decompressing corrupted data\n",
      "Data-loss while decompressing corrupted data\n",
      "Data-loss while decompressing corrupted data\n",
      "Data-loss while decompressing corrupted data\n",
      "Data-loss while decompressing corrupted data\n",
      "Data-loss while decompressing corrupted data\n",
      "Data-loss while decompressing corrupted data\n",
      "Data-loss while decompressing corrupted data\n",
      "Data-loss while decompressing corrupted data\n",
      "Data-loss while decompressing corrupted data\n",
      "Data-loss while decompressing corrupted data\n",
      "Data-loss while decompressing corrupted data\n",
      "Data-loss while decompressing corrupted data\n",
      "Data-loss while decompressing corrupted data\n",
      "Data-loss while decompressing corrupted data\n",
      "Data-loss while decompressing corrupted data\n",
      "Data-loss while decompressing corrupted data\n",
      "Data-loss while decompressing corrupted data\n",
      "Data-loss while decompressing corrupted data\n",
      "Data-loss while decompressing corrupted data\n",
      "Data-loss while decompressing corrupted data\n",
      "Data-loss while decompressing corrupted data\n",
      "Data-loss while decompressing corrupted data\n",
      "Data-loss while decompressing corrupted data\n",
      "Data-loss while decompressing corrupted data\n",
      "Data-loss while decompressing corrupted data\n",
      "Data-loss while decompressing corrupted data\n",
      "Data-loss while decompressing corrupted data\n",
      "Data-loss while decompressing corrupted data\n",
      "Data-loss while decompressing corrupted data\n",
      "Data-loss while decompressing corrupted data\n",
      "Data-loss while decompressing corrupted data\n",
      "Data-loss while decompressing corrupted data\n",
      "Data-loss while decompressing corrupted data\n",
      "Data-loss while decompressing corrupted data\n",
      "Data-loss while decompressing corrupted data\n",
      "Data-loss while decompressing corrupted data\n",
      "Data-loss while decompressing corrupted data\n",
      "Data-loss while decompressing corrupted data\n",
      "Data-loss while decompressing corrupted data\n",
      "Data-loss while decompressing corrupted data\n",
      "Data-loss while decompressing corrupted data\n",
      "Data-loss while decompressing corrupted data\n",
      "Data-loss while decompressing corrupted data\n",
      "Data-loss while decompressing corrupted data\n",
      "Data-loss while decompressing corrupted data\n",
      "Data-loss while decompressing corrupted data\n",
      "Data-loss while decompressing corrupted data\n",
      "Data-loss while decompressing corrupted data\n",
      "Data-loss while decompressing corrupted data\n",
      "Data-loss while decompressing corrupted data\n",
      "Data-loss while decompressing corrupted data\n",
      "Data-loss while decompressing corrupted data\n",
      "Data-loss while decompressing corrupted data\n",
      "Data-loss while decompressing corrupted data\n",
      "Data-loss while decompressing corrupted data\n",
      "Data-loss while decompressing corrupted data\n",
      "Data-loss while decompressing corrupted data\n",
      "Data-loss while decompressing corrupted data\n",
      "Data-loss while decompressing corrupted data\n",
      "Data-loss while decompressing corrupted data\n",
      "Data-loss while decompressing corrupted data\n",
      "Data-loss while decompressing corrupted data\n",
      "Data-loss while decompressing corrupted data\n",
      "Data-loss while decompressing corrupted data\n",
      "Data-loss while decompressing corrupted data\n",
      "Data-loss while decompressing corrupted data\n",
      "Data-loss while decompressing corrupted data\n",
      "Data-loss while decompressing corrupted data\n",
      "Data-loss while decompressing corrupted data\n",
      "Data-loss while decompressing corrupted data\n",
      "Data-loss while decompressing corrupted data\n",
      "Data-loss while decompressing corrupted data\n",
      "Data-loss while decompressing corrupted data\n",
      "Data-loss while decompressing corrupted data\n",
      "Data-loss while decompressing corrupted data\n",
      "Data-loss while decompressing corrupted data\n",
      "Data-loss while decompressing corrupted data\n",
      "Data-loss while decompressing corrupted data\n",
      "Data-loss while decompressing corrupted data\n",
      "Data-loss while decompressing corrupted data\n",
      "Data-loss while decompressing corrupted data\n",
      "Data-loss while decompressing corrupted data\n",
      "Data-loss while decompressing corrupted data\n",
      "Data-loss while decompressing corrupted data\n",
      "Data-loss while decompressing corrupted data\n",
      "Data-loss while decompressing corrupted data\n",
      "Data-loss while decompressing corrupted data\n",
      "Data-loss while decompressing corrupted data\n",
      "Data-loss while decompressing corrupted data\n",
      "Data-loss while decompressing corrupted data\n",
      "Data-loss while decompressing corrupted data\n",
      "Data-loss while decompressing corrupted data\n",
      "Data-loss while decompressing corrupted data\n",
      "Data-loss while decompressing corrupted data\n",
      "Data-loss while decompressing corrupted data\n",
      "Data-loss while decompressing corrupted data\n",
      "Data-loss while decompressing corrupted data\n",
      "Data-loss while decompressing corrupted data\n",
      "Data-loss while decompressing corrupted data\n",
      "Data-loss while decompressing corrupted data\n",
      "Data-loss while decompressing corrupted data\n",
      "Data-loss while decompressing corrupted data\n",
      "Data-loss while decompressing corrupted data\n",
      "Data-loss while decompressing corrupted data\n",
      "Data-loss while decompressing corrupted data\n",
      "Data-loss while decompressing corrupted data\n",
      "Data-loss while decompressing corrupted data\n",
      "Data-loss while decompressing corrupted data\n",
      "Data-loss while decompressing corrupted data\n",
      "Data-loss while decompressing corrupted data\n",
      "Data-loss while decompressing corrupted data\n",
      "Data-loss while decompressing corrupted data\n",
      "Data-loss while decompressing corrupted data\n",
      "Data-loss while decompressing corrupted data\n",
      "Data-loss while decompressing corrupted data\n",
      "Data-loss while decompressing corrupted data\n",
      "Data-loss while decompressing corrupted data\n",
      "Data-loss while decompressing corrupted data\n",
      "Data-loss while decompressing corrupted data\n",
      "Data-loss while decompressing corrupted data\n",
      "Data-loss while decompressing corrupted data\n",
      "Data-loss while decompressing corrupted data\n",
      "Data-loss while decompressing corrupted data\n",
      "Data-loss while decompressing corrupted data\n",
      "Data-loss while decompressing corrupted data\n",
      "Data-loss while decompressing corrupted data\n",
      "Data-loss while decompressing corrupted data\n",
      "Data-loss while decompressing corrupted data\n",
      "Data-loss while decompressing corrupted data\n",
      "Data-loss while decompressing corrupted data\n",
      "Data-loss while decompressing corrupted data\n",
      "Data-loss while decompressing corrupted data\n",
      "Data-loss while decompressing corrupted data\n",
      "Data-loss while decompressing corrupted data\n",
      "Data-loss while decompressing corrupted data\n",
      "Data-loss while decompressing corrupted data\n",
      "Data-loss while decompressing corrupted data\n",
      "Data-loss while decompressing corrupted data\n",
      "Data-loss while decompressing corrupted data\n",
      "Data-loss while decompressing corrupted data\n",
      "Data-loss while decompressing corrupted data\n",
      "Data-loss while decompressing corrupted data\n",
      "Data-loss while decompressing corrupted data\n",
      "Data-loss while decompressing corrupted data\n",
      "Data-loss while decompressing corrupted data\n",
      "Data-loss while decompressing corrupted data\n",
      "Data-loss while decompressing corrupted data\n",
      "Data-loss while decompressing corrupted data\n",
      "Data-loss while decompressing corrupted data\n",
      "Data-loss while decompressing corrupted data\n",
      "Data-loss while decompressing corrupted data\n",
      "Data-loss while decompressing corrupted data\n",
      "Data-loss while decompressing corrupted data\n",
      "Data-loss while decompressing corrupted data\n",
      "Data-loss while decompressing corrupted data\n",
      "Data-loss while decompressing corrupted data\n",
      "Data-loss while decompressing corrupted data\n",
      "Data-loss while decompressing corrupted data\n",
      "Data-loss while decompressing corrupted data\n",
      "Data-loss while decompressing corrupted data\n",
      "Data-loss while decompressing corrupted data\n",
      "Data-loss while decompressing corrupted data\n",
      "Data-loss while decompressing corrupted data\n",
      "Data-loss while decompressing corrupted data\n",
      "Data-loss while decompressing corrupted data\n",
      "Data-loss while decompressing corrupted data\n",
      "Data-loss while decompressing corrupted data\n",
      "Data-loss while decompressing corrupted data\n",
      "Data-loss while decompressing corrupted data\n",
      "Data-loss while decompressing corrupted data\n",
      "Data-loss while decompressing corrupted data\n",
      "Data-loss while decompressing corrupted data\n",
      "Data-loss while decompressing corrupted data\n",
      "Data-loss while decompressing corrupted data\n",
      "Data-loss while decompressing corrupted data\n",
      "Data-loss while decompressing corrupted data\n",
      "Data-loss while decompressing corrupted data\n",
      "Data-loss while decompressing corrupted data\n",
      "Data-loss while decompressing corrupted data\n",
      "Data-loss while decompressing corrupted data\n",
      "Data-loss while decompressing corrupted data\n",
      "Data-loss while decompressing corrupted data\n",
      "Data-loss while decompressing corrupted data\n",
      "Data-loss while decompressing corrupted data\n",
      "Data-loss while decompressing corrupted data\n",
      "Data-loss while decompressing corrupted data\n",
      "Data-loss while decompressing corrupted data\n",
      "Data-loss while decompressing corrupted data\n",
      "Data-loss while decompressing corrupted data\n",
      "Data-loss while decompressing corrupted data\n",
      "Data-loss while decompressing corrupted data\n",
      "Data-loss while decompressing corrupted data\n",
      "Data-loss while decompressing corrupted data\n",
      "Data-loss while decompressing corrupted data\n",
      "Data-loss while decompressing corrupted data\n",
      "Data-loss while decompressing corrupted data\n",
      "Data-loss while decompressing corrupted data\n",
      "Data-loss while decompressing corrupted data\n",
      "Data-loss while decompressing corrupted data\n",
      "Data-loss while decompressing corrupted data\n",
      "Data-loss while decompressing corrupted data\n",
      "Data-loss while decompressing corrupted data\n",
      "Data-loss while decompressing corrupted data\n",
      "Data-loss while decompressing corrupted data\n",
      "Data-loss while decompressing corrupted data\n",
      "Data-loss while decompressing corrupted data\n",
      "Data-loss while decompressing corrupted data\n",
      "Data-loss while decompressing corrupted data\n",
      "Data-loss while decompressing corrupted data\n",
      "Data-loss while decompressing corrupted data\n",
      "Data-loss while decompressing corrupted data\n",
      "Data-loss while decompressing corrupted data\n",
      "Data-loss while decompressing corrupted data\n",
      "Data-loss while decompressing corrupted data\n",
      "Data-loss while decompressing corrupted data\n",
      "Data-loss while decompressing corrupted data\n",
      "Data-loss while decompressing corrupted data\n",
      "Data-loss while decompressing corrupted data\n",
      "Data-loss while decompressing corrupted data\n",
      "Data-loss while decompressing corrupted data\n",
      "Data-loss while decompressing corrupted data\n",
      "Data-loss while decompressing corrupted data\n",
      "Data-loss while decompressing corrupted data\n",
      "Data-loss while decompressing corrupted data\n",
      "Data-loss while decompressing corrupted data\n",
      "Data-loss while decompressing corrupted data\n",
      "Data-loss while decompressing corrupted data\n",
      "Data-loss while decompressing corrupted data\n",
      "Data-loss while decompressing corrupted data\n",
      "Data-loss while decompressing corrupted data\n",
      "Data-loss while decompressing corrupted data\n",
      "Data-loss while decompressing corrupted data\n",
      "Data-loss while decompressing corrupted data\n",
      "Data-loss while decompressing corrupted data\n",
      "Data-loss while decompressing corrupted data\n",
      "Data-loss while decompressing corrupted data\n",
      "Data-loss while decompressing corrupted data\n",
      "Data-loss while decompressing corrupted data\n",
      "Data-loss while decompressing corrupted data\n",
      "Data-loss while decompressing corrupted data\n",
      "Data-loss while decompressing corrupted data\n",
      "Data-loss while decompressing corrupted data\n",
      "Data-loss while decompressing corrupted data\n",
      "Data-loss while decompressing corrupted data\n",
      "Data-loss while decompressing corrupted data\n",
      "Data-loss while decompressing corrupted data\n",
      "Data-loss while decompressing corrupted data\n",
      "Data-loss while decompressing corrupted data\n",
      "Data-loss while decompressing corrupted data\n",
      "Data-loss while decompressing corrupted data\n",
      "Data-loss while decompressing corrupted data\n",
      "Data-loss while decompressing corrupted data\n",
      "Data-loss while decompressing corrupted data\n",
      "Data-loss while decompressing corrupted data\n",
      "Data-loss while decompressing corrupted data\n",
      "Data-loss while decompressing corrupted data\n",
      "Data-loss while decompressing corrupted data\n",
      "Data-loss while decompressing corrupted data\n",
      "Data-loss while decompressing corrupted data\n",
      "Data-loss while decompressing corrupted data\n",
      "Data-loss while decompressing corrupted data\n",
      "Data-loss while decompressing corrupted data\n",
      "Data-loss while decompressing corrupted data\n",
      "Data-loss while decompressing corrupted data\n",
      "Data-loss while decompressing corrupted data\n"
     ]
    },
    {
     "name": "stdout",
     "output_type": "stream",
     "text": [
      "ir/77520_リコー/all_J_spread.pdf\n"
     ]
    },
    {
     "name": "stderr",
     "output_type": "stream",
     "text": [
      "Data-loss while decompressing corrupted data\n",
      "Data-loss while decompressing corrupted data\n",
      "Data-loss while decompressing corrupted data\n",
      "Data-loss while decompressing corrupted data\n",
      "Data-loss while decompressing corrupted data\n",
      "Data-loss while decompressing corrupted data\n",
      "Data-loss while decompressing corrupted data\n",
      "Data-loss while decompressing corrupted data\n",
      "Data-loss while decompressing corrupted data\n",
      "Data-loss while decompressing corrupted data\n",
      "Data-loss while decompressing corrupted data\n",
      "Data-loss while decompressing corrupted data\n",
      "Data-loss while decompressing corrupted data\n",
      "Data-loss while decompressing corrupted data\n",
      "Data-loss while decompressing corrupted data\n",
      "Data-loss while decompressing corrupted data\n",
      "Data-loss while decompressing corrupted data\n",
      "Data-loss while decompressing corrupted data\n",
      "Data-loss while decompressing corrupted data\n",
      "Data-loss while decompressing corrupted data\n",
      "Data-loss while decompressing corrupted data\n",
      "Data-loss while decompressing corrupted data\n",
      "Data-loss while decompressing corrupted data\n",
      "Data-loss while decompressing corrupted data\n",
      "Data-loss while decompressing corrupted data\n",
      "Data-loss while decompressing corrupted data\n",
      "Data-loss while decompressing corrupted data\n",
      "Data-loss while decompressing corrupted data\n",
      "Data-loss while decompressing corrupted data\n",
      "Data-loss while decompressing corrupted data\n",
      "Data-loss while decompressing corrupted data\n",
      "Data-loss while decompressing corrupted data\n",
      "Data-loss while decompressing corrupted data\n",
      "Data-loss while decompressing corrupted data\n",
      "Data-loss while decompressing corrupted data\n",
      "Data-loss while decompressing corrupted data\n",
      "Data-loss while decompressing corrupted data\n",
      "Data-loss while decompressing corrupted data\n",
      "Data-loss while decompressing corrupted data\n",
      "Data-loss while decompressing corrupted data\n",
      "Data-loss while decompressing corrupted data\n",
      "Data-loss while decompressing corrupted data\n",
      "Data-loss while decompressing corrupted data\n",
      "Data-loss while decompressing corrupted data\n",
      "Data-loss while decompressing corrupted data\n",
      "Data-loss while decompressing corrupted data\n",
      "Data-loss while decompressing corrupted data\n",
      "Data-loss while decompressing corrupted data\n",
      "Data-loss while decompressing corrupted data\n",
      "Data-loss while decompressing corrupted data\n",
      "Data-loss while decompressing corrupted data\n",
      "Data-loss while decompressing corrupted data\n",
      "Data-loss while decompressing corrupted data\n",
      "Data-loss while decompressing corrupted data\n",
      "Data-loss while decompressing corrupted data\n",
      "Data-loss while decompressing corrupted data\n",
      "Data-loss while decompressing corrupted data\n",
      "Data-loss while decompressing corrupted data\n",
      "Data-loss while decompressing corrupted data\n",
      "Data-loss while decompressing corrupted data\n",
      "Data-loss while decompressing corrupted data\n",
      "Data-loss while decompressing corrupted data\n",
      "Data-loss while decompressing corrupted data\n",
      "Data-loss while decompressing corrupted data\n",
      "Data-loss while decompressing corrupted data\n",
      "Data-loss while decompressing corrupted data\n",
      "Data-loss while decompressing corrupted data\n",
      "Data-loss while decompressing corrupted data\n",
      "Data-loss while decompressing corrupted data\n",
      "Data-loss while decompressing corrupted data\n",
      "Data-loss while decompressing corrupted data\n",
      "Data-loss while decompressing corrupted data\n",
      "Data-loss while decompressing corrupted data\n",
      "Data-loss while decompressing corrupted data\n",
      "Data-loss while decompressing corrupted data\n",
      "Data-loss while decompressing corrupted data\n",
      "Data-loss while decompressing corrupted data\n",
      "Data-loss while decompressing corrupted data\n",
      "Data-loss while decompressing corrupted data\n",
      "Data-loss while decompressing corrupted data\n",
      "Data-loss while decompressing corrupted data\n",
      "Data-loss while decompressing corrupted data\n",
      "Data-loss while decompressing corrupted data\n",
      "Data-loss while decompressing corrupted data\n",
      "Data-loss while decompressing corrupted data\n",
      "Data-loss while decompressing corrupted data\n",
      "Data-loss while decompressing corrupted data\n",
      "Data-loss while decompressing corrupted data\n",
      "Data-loss while decompressing corrupted data\n",
      "Data-loss while decompressing corrupted data\n",
      "Data-loss while decompressing corrupted data\n",
      "Data-loss while decompressing corrupted data\n",
      "Data-loss while decompressing corrupted data\n",
      "Data-loss while decompressing corrupted data\n",
      "Data-loss while decompressing corrupted data\n",
      "Data-loss while decompressing corrupted data\n",
      "Data-loss while decompressing corrupted data\n",
      "Data-loss while decompressing corrupted data\n",
      "Data-loss while decompressing corrupted data\n",
      "Data-loss while decompressing corrupted data\n",
      "Data-loss while decompressing corrupted data\n",
      "Data-loss while decompressing corrupted data\n",
      "Data-loss while decompressing corrupted data\n",
      "Data-loss while decompressing corrupted data\n",
      "Data-loss while decompressing corrupted data\n",
      "Data-loss while decompressing corrupted data\n",
      "Data-loss while decompressing corrupted data\n",
      "Data-loss while decompressing corrupted data\n",
      "Data-loss while decompressing corrupted data\n",
      "Data-loss while decompressing corrupted data\n",
      "Data-loss while decompressing corrupted data\n",
      "Data-loss while decompressing corrupted data\n",
      "Data-loss while decompressing corrupted data\n",
      "Data-loss while decompressing corrupted data\n",
      "Data-loss while decompressing corrupted data\n",
      "Data-loss while decompressing corrupted data\n",
      "Data-loss while decompressing corrupted data\n",
      "Data-loss while decompressing corrupted data\n",
      "Data-loss while decompressing corrupted data\n",
      "Data-loss while decompressing corrupted data\n",
      "Data-loss while decompressing corrupted data\n",
      "Data-loss while decompressing corrupted data\n",
      "Data-loss while decompressing corrupted data\n",
      "Data-loss while decompressing corrupted data\n",
      "Data-loss while decompressing corrupted data\n",
      "Data-loss while decompressing corrupted data\n",
      "Data-loss while decompressing corrupted data\n",
      "Data-loss while decompressing corrupted data\n",
      "Data-loss while decompressing corrupted data\n",
      "Data-loss while decompressing corrupted data\n",
      "Data-loss while decompressing corrupted data\n",
      "Data-loss while decompressing corrupted data\n",
      "Data-loss while decompressing corrupted data\n",
      "Data-loss while decompressing corrupted data\n",
      "Data-loss while decompressing corrupted data\n",
      "Data-loss while decompressing corrupted data\n",
      "Data-loss while decompressing corrupted data\n",
      "Data-loss while decompressing corrupted data\n",
      "Data-loss while decompressing corrupted data\n",
      "Data-loss while decompressing corrupted data\n",
      "Data-loss while decompressing corrupted data\n",
      "Data-loss while decompressing corrupted data\n",
      "Data-loss while decompressing corrupted data\n",
      "Data-loss while decompressing corrupted data\n",
      "Data-loss while decompressing corrupted data\n",
      "Data-loss while decompressing corrupted data\n",
      "Data-loss while decompressing corrupted data\n",
      "Data-loss while decompressing corrupted data\n",
      "Data-loss while decompressing corrupted data\n",
      "Data-loss while decompressing corrupted data\n",
      "Data-loss while decompressing corrupted data\n",
      "Data-loss while decompressing corrupted data\n",
      "Data-loss while decompressing corrupted data\n",
      "Data-loss while decompressing corrupted data\n",
      "Data-loss while decompressing corrupted data\n",
      "Data-loss while decompressing corrupted data\n",
      "Data-loss while decompressing corrupted data\n",
      "Data-loss while decompressing corrupted data\n",
      "Data-loss while decompressing corrupted data\n",
      "Data-loss while decompressing corrupted data\n",
      "Data-loss while decompressing corrupted data\n",
      "Data-loss while decompressing corrupted data\n",
      "Data-loss while decompressing corrupted data\n",
      "Data-loss while decompressing corrupted data\n",
      "Data-loss while decompressing corrupted data\n",
      "Data-loss while decompressing corrupted data\n",
      "Data-loss while decompressing corrupted data\n",
      "Data-loss while decompressing corrupted data\n",
      "Data-loss while decompressing corrupted data\n",
      "Data-loss while decompressing corrupted data\n",
      "Data-loss while decompressing corrupted data\n",
      "Data-loss while decompressing corrupted data\n",
      "Data-loss while decompressing corrupted data\n",
      "Data-loss while decompressing corrupted data\n"
     ]
    },
    {
     "name": "stdout",
     "output_type": "stream",
     "text": [
      "ir/77800_メニコン/20231012083938322s.pdf\n",
      "ir/79110_ＴＯＰＰＡＮホールディングス/00 (1).pdf\n",
      "ir/79110_ＴＯＰＰＡＮホールディングス/00.pdf\n",
      "ir/79150_ＮＩＳＳＨＡ/NisshaReport2023_A3.pdf\n"
     ]
    },
    {
     "name": "stderr",
     "output_type": "stream",
     "text": [
      "Data-loss while decompressing corrupted data\n",
      "Data-loss while decompressing corrupted data\n",
      "Data-loss while decompressing corrupted data\n",
      "Data-loss while decompressing corrupted data\n",
      "Data-loss while decompressing corrupted data\n",
      "Data-loss while decompressing corrupted data\n",
      "Data-loss while decompressing corrupted data\n",
      "Data-loss while decompressing corrupted data\n",
      "Data-loss while decompressing corrupted data\n",
      "Data-loss while decompressing corrupted data\n",
      "Data-loss while decompressing corrupted data\n",
      "Data-loss while decompressing corrupted data\n",
      "Data-loss while decompressing corrupted data\n",
      "Data-loss while decompressing corrupted data\n",
      "Data-loss while decompressing corrupted data\n",
      "Data-loss while decompressing corrupted data\n",
      "Data-loss while decompressing corrupted data\n",
      "Data-loss while decompressing corrupted data\n",
      "Data-loss while decompressing corrupted data\n",
      "Data-loss while decompressing corrupted data\n"
     ]
    },
    {
     "name": "stdout",
     "output_type": "stream",
     "text": [
      "ir/79150_ＮＩＳＳＨＡ/NisshaReport2023_A4.pdf\n"
     ]
    },
    {
     "name": "stderr",
     "output_type": "stream",
     "text": [
      "Data-loss while decompressing corrupted data\n",
      "Data-loss while decompressing corrupted data\n",
      "Data-loss while decompressing corrupted data\n",
      "Data-loss while decompressing corrupted data\n",
      "Data-loss while decompressing corrupted data\n",
      "Data-loss while decompressing corrupted data\n",
      "Data-loss while decompressing corrupted data\n",
      "Data-loss while decompressing corrupted data\n",
      "Data-loss while decompressing corrupted data\n",
      "Data-loss while decompressing corrupted data\n",
      "Data-loss while decompressing corrupted data\n",
      "Data-loss while decompressing corrupted data\n",
      "Data-loss while decompressing corrupted data\n",
      "Data-loss while decompressing corrupted data\n",
      "Data-loss while decompressing corrupted data\n",
      "Data-loss while decompressing corrupted data\n",
      "Data-loss while decompressing corrupted data\n",
      "Data-loss while decompressing corrupted data\n",
      "Data-loss while decompressing corrupted data\n",
      "Data-loss while decompressing corrupted data\n",
      "Data-loss while decompressing corrupted data\n",
      "Data-loss while decompressing corrupted data\n",
      "Data-loss while decompressing corrupted data\n",
      "Data-loss while decompressing corrupted data\n"
     ]
    },
    {
     "name": "stdout",
     "output_type": "stream",
     "text": [
      "ir/79360_アシックス/file.pdf\n",
      "ir/79510_ヤマハ/an-2023.pdf\n",
      "ir/79510_ヤマハ/an-2023_single.pdf\n",
      "File: ir/20020_日清製粉グループ本社/NFMu.pdf\n",
      "  - Copy Protected: False\n",
      "  - Can Copy: True\n",
      "  - Text Available: True\n",
      "File: ir/20020_日清製粉グループ本社/WJZN.pdf\n",
      "  - Copy Protected: False\n",
      "  - Can Copy: True\n",
      "  - Text Available: True\n",
      "File: ir/22690_明治ホールディングス/integratedreports-integrated_reports_2023_ja_all.pdf\n",
      "  - Copy Protected: True\n",
      "  - Can Copy: True\n",
      "  - Text Available: True\n",
      "File: ir/22690_明治ホールディングス/integratedreports-integrated_reports_2023_ja_all_print.pdf\n",
      "  - Copy Protected: True\n",
      "  - Can Copy: True\n",
      "  - Text Available: True\n",
      "File: ir/25010_サッポロホールディングス/Indegrated%20report_2022.pdf\n",
      "  - Copy Protected: False\n",
      "  - Can Copy: True\n",
      "  - Text Available: True\n",
      "File: ir/25030_キリンホールディングス/kirinreport2023.pdf\n",
      "  - Copy Protected: True\n",
      "  - Can Copy: True\n",
      "  - Text Available: True\n",
      "File: ir/26070_不二製油グループ本社/fujioil_integrated_report2023_01.pdf\n",
      "  - Copy Protected: True\n",
      "  - Can Copy: True\n",
      "  - Text Available: True\n",
      "File: ir/26070_不二製油グループ本社/fujioil_integrated_report2023_02.pdf\n",
      "  - Copy Protected: True\n",
      "  - Can Copy: True\n",
      "  - Text Available: True\n",
      "File: ir/28020_味の素/ASV_Report_2023_J_A3.pdf\n",
      "  - Copy Protected: False\n",
      "  - Can Copy: True\n",
      "  - Text Available: True\n",
      "File: ir/28020_味の素/ASV_Report_2023_J_A4.pdf\n",
      "  - Copy Protected: False\n",
      "  - Can Copy: True\n",
      "  - Text Available: True\n",
      "File: ir/29140_日本たばこ産業/integrated2022_J_all.pdf\n",
      "  - Copy Protected: True\n",
      "  - Can Copy: True\n",
      "  - Text Available: True\n",
      "File: ir/31010_東洋紡/TOYOBO%20REPORT%202023%203.pdf\n",
      "  - Copy Protected: True\n",
      "  - Can Copy: True\n",
      "  - Text Available: True\n",
      "File: ir/34010_帝人/00.pdf\n",
      "  - Copy Protected: True\n",
      "  - Can Copy: True\n",
      "  - Text Available: True\n",
      "File: ir/34070_旭化成/23jp.pdf\n",
      "  - Copy Protected: False\n",
      "  - Can Copy: True\n",
      "  - Text Available: True\n",
      "File: ir/38610_王子ホールディングス/2023_all_A3_ja.pdf\n",
      "  - Copy Protected: True\n",
      "  - Can Copy: True\n",
      "  - Text Available: True\n",
      "File: ir/38610_王子ホールディングス/2023_all_A4_ja.pdf\n",
      "  - Copy Protected: True\n",
      "  - Can Copy: True\n",
      "  - Text Available: True\n",
      "File: ir/40040_レゾナック・ホールディングス/pdf-sustainability-report-integratedreport-RESONAC23J_spread.pdf\n",
      "  - Copy Protected: True\n",
      "  - Can Copy: True\n",
      "  - Text Available: True\n",
      "File: ir/40050_住友化学/scr2023.pdf\n",
      "  - Copy Protected: False\n",
      "  - Can Copy: True\n",
      "  - Text Available: True\n",
      "File: ir/40210_日産化学/ar2023.pdf\n",
      "  - Copy Protected: True\n",
      "  - Can Copy: True\n",
      "  - Text Available: True\n",
      "File: ir/40230_クレハ/110_kurehareport.pdf\n",
      "  - Copy Protected: False\n",
      "  - Can Copy: True\n",
      "  - Text Available: True\n",
      "File: ir/40250_多木化学/csr_report_2023.pdf\n",
      "  - Copy Protected: False\n",
      "  - Can Copy: True\n",
      "  - Text Available: True\n",
      "File: ir/40280_石原産業/2023.pdf\n",
      "  - Copy Protected: False\n",
      "  - Can Copy: True\n",
      "  - Text Available: True\n",
      "File: ir/40420_東ソー/report2023.pdf\n",
      "  - Copy Protected: False\n",
      "  - Can Copy: True\n",
      "  - Text Available: True\n",
      "File: ir/40440_セントラル硝子/rc_2023_all_forprint.pdf\n",
      "  - Copy Protected: True\n",
      "  - Can Copy: True\n",
      "  - Text Available: True\n",
      "File: ir/40630_信越化学工業/アニュアルレポート2023（印刷推奨）.pdf\n",
      "  - Copy Protected: True\n",
      "  - Can Copy: True\n",
      "  - Text Available: True\n",
      "File: ir/40630_信越化学工業/アニュアルレポート2023（閲覧推奨）.pdf\n",
      "  - Copy Protected: True\n",
      "  - Can Copy: True\n",
      "  - Text Available: True\n",
      "File: ir/40780_堺化学工業/envi_report2023-1.pdf\n",
      "  - Copy Protected: False\n",
      "  - Can Copy: True\n",
      "  - Text Available: True\n",
      "File: ir/40910_日本酸素ホールディングス/nippon-sanso-holdings-integrated-report_jp-full_2023.pdf\n",
      "  - Copy Protected: True\n",
      "  - Can Copy: True\n",
      "  - Text Available: True\n",
      "File: ir/40920_日本化学工業/detail?param=eyJjb250ZW50TnVtIjozODA2NDR9&detailFlg=0&pNo=1\n"
     ]
    },
    {
     "ename": "KeyError",
     "evalue": "'copy_protected'",
     "output_type": "error",
     "traceback": [
      "\u001b[0;31m---------------------------------------------------------------------------\u001b[0m",
      "\u001b[0;31mKeyError\u001b[0m                                  Traceback (most recent call last)",
      "Cell \u001b[0;32mIn[1], line 61\u001b[0m\n\u001b[1;32m     59\u001b[0m \u001b[38;5;28;01mfor\u001b[39;00m result \u001b[38;5;129;01min\u001b[39;00m results:\n\u001b[1;32m     60\u001b[0m     \u001b[38;5;28mprint\u001b[39m(\u001b[38;5;124mf\u001b[39m\u001b[38;5;124m\"\u001b[39m\u001b[38;5;124mFile: \u001b[39m\u001b[38;5;132;01m{\u001b[39;00mresult[\u001b[38;5;124m'\u001b[39m\u001b[38;5;124mfile\u001b[39m\u001b[38;5;124m'\u001b[39m]\u001b[38;5;132;01m}\u001b[39;00m\u001b[38;5;124m\"\u001b[39m)\n\u001b[0;32m---> 61\u001b[0m     \u001b[38;5;28mprint\u001b[39m(\u001b[38;5;124mf\u001b[39m\u001b[38;5;124m\"\u001b[39m\u001b[38;5;124m  - Copy Protected: \u001b[39m\u001b[38;5;132;01m{\u001b[39;00mresult[\u001b[38;5;124m'\u001b[39m\u001b[38;5;124mcopy_protected\u001b[39m\u001b[38;5;124m'\u001b[39m]\u001b[38;5;132;01m}\u001b[39;00m\u001b[38;5;124m\"\u001b[39m)\n\u001b[1;32m     62\u001b[0m     \u001b[38;5;28mprint\u001b[39m(\u001b[38;5;124mf\u001b[39m\u001b[38;5;124m\"\u001b[39m\u001b[38;5;124m  - Can Copy: \u001b[39m\u001b[38;5;132;01m{\u001b[39;00mresult[\u001b[38;5;124m'\u001b[39m\u001b[38;5;124mcan_copy\u001b[39m\u001b[38;5;124m'\u001b[39m]\u001b[38;5;132;01m}\u001b[39;00m\u001b[38;5;124m\"\u001b[39m)\n\u001b[1;32m     63\u001b[0m     \u001b[38;5;28mprint\u001b[39m(\u001b[38;5;124mf\u001b[39m\u001b[38;5;124m\"\u001b[39m\u001b[38;5;124m  - Text Available: \u001b[39m\u001b[38;5;132;01m{\u001b[39;00mresult[\u001b[38;5;124m'\u001b[39m\u001b[38;5;124mtext_available\u001b[39m\u001b[38;5;124m'\u001b[39m]\u001b[38;5;132;01m}\u001b[39;00m\u001b[38;5;124m\"\u001b[39m)\n",
      "\u001b[0;31mKeyError\u001b[0m: 'copy_protected'"
     ]
    }
   ],
   "source": [
    "import PyPDF2\n",
    "from pdfminer.high_level import extract_text\n",
    "import os\n",
    "\n",
    "# PDFファイルのパスをリストとして定義\n",
    "file_path='ir/pdflist.txt'\n",
    "pdf_files = []\n",
    "try:\n",
    "    with open(file_path, 'r') as file:\n",
    "        pdf_files = [line.strip() for line in file]\n",
    "except FileNotFoundError:\n",
    "    pass\n",
    "\n",
    "# 結果を保持するリスト\n",
    "results = []\n",
    "\n",
    "for pdf_file in pdf_files:\n",
    "\n",
    "    print(pdf_file)\n",
    "\n",
    "    if not os.path.exists(pdf_file):\n",
    "        results.append({\"file\": pdf_file, \"status\": \"File not found\"})\n",
    "        continue\n",
    "\n",
    "    # PyPDF2を使用してPDFファイルのセキュリティ設定を確認\n",
    "    with open(pdf_file, \"rb\") as f:\n",
    "        reader = PyPDF2.PdfReader(f)\n",
    "        # PDFファイルが暗号化されているかどうかをチェック\n",
    "        copy_protected = reader.is_encrypted\n",
    "        \n",
    "        # メタデータからコピー制限をチェック\n",
    "        metadata = reader.metadata\n",
    "        if metadata:\n",
    "            permissions = metadata.get(\"/Perms\", None)\n",
    "            if permissions:\n",
    "                # 権限に関する情報があるかどうか\n",
    "                can_copy = permissions.get(\"/Copy\", True)  # Trueは制限がないことを示す\n",
    "            else:\n",
    "                can_copy = True  # デフォルトは制限なし\n",
    "        else:\n",
    "            can_copy = True  # デフォルトは制限なし\n",
    "\n",
    "    # pdfminer.sixを使用してPDFからテキストを抽出\n",
    "    try:\n",
    "        text = extract_text(pdf_file)\n",
    "        text_available = len(text.strip()) > 0\n",
    "    except Exception as e:\n",
    "        text_available = False\n",
    "\n",
    "    # 結果をリストに追加\n",
    "    results.append({\n",
    "        \"file\": pdf_file,\n",
    "        \"copy_protected\": copy_protected,\n",
    "        \"can_copy\": can_copy,\n",
    "        \"text_available\": text_available,\n",
    "    })\n",
    "\n",
    "# 結果を表示\n",
    "for result in results:\n",
    "    print(f\"File: {result['file']}\")\n",
    "    print(f\"  - Copy Protected: {result['copy_protected']}\")\n",
    "    print(f\"  - Can Copy: {result['can_copy']}\")\n",
    "    print(f\"  - Text Available: {result['text_available']}\")\n"
   ]
  },
  {
   "cell_type": "code",
   "execution_count": null,
   "id": "81bdc3ce-6d32-4246-b4cd-8600edcd21e3",
   "metadata": {
    "scrolled": true
   },
   "outputs": [],
   "source": [
    "for result in results:\n",
    "    if not result.get('file', '') == \"ir/40920_日本化学工業/detail?param=eyJjb250ZW50TnVtIjozODA2NDR9&detailFlg=0&pNo=1\":\n",
    "        print(f\"File: {result.get('file', 'No File')}\")\n",
    "        print(f\"  - Copy Protected: {result.get('copy_protected', 'Unknown')}\")\n",
    "        print(f\"  - Can Copy: {result.get('can_copy', 'Unknown')}\")\n",
    "        print(f\"  - Text Available: {result.get('text_available', 'Unknown')}\")\n"
   ]
  },
  {
   "cell_type": "code",
   "execution_count": null,
   "id": "01cf86a0-d35b-4939-b0de-ae101172db8f",
   "metadata": {},
   "outputs": [],
   "source": []
  }
 ],
 "metadata": {
  "kernelspec": {
   "display_name": "Python 3 (ipykernel)",
   "language": "python",
   "name": "python3"
  },
  "language_info": {
   "codemirror_mode": {
    "name": "ipython",
    "version": 3
   },
   "file_extension": ".py",
   "mimetype": "text/x-python",
   "name": "python",
   "nbconvert_exporter": "python",
   "pygments_lexer": "ipython3",
   "version": "3.8.19"
  }
 },
 "nbformat": 4,
 "nbformat_minor": 5
}
