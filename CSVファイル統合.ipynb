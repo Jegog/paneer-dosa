{
 "cells": [
  {
   "cell_type": "code",
   "execution_count": 1,
   "id": "825d99f0-79bf-480e-be92-504538525b4b",
   "metadata": {},
   "outputs": [
    {
     "name": "stdout",
     "output_type": "stream",
     "text": [
      "processing...\n",
      "done.\n"
     ]
    }
   ],
   "source": [
    "#同一フォルダ内のファイルを結合\n",
    "\n",
    "import pandas as pd\n",
    "import glob\n",
    "import os\n",
    "import datetime\n",
    "\n",
    "#ファイル識別に利用する年月日文字列の取得\n",
    "# 現在の時刻情報を取得\n",
    "now = datetime.datetime.now()\n",
    "# 年月日と時刻の文字列を生成\n",
    "date_time_string = now.strftime(\"%Y%m%d-%H%M%S\")\n",
    "time_string = now.strftime(\"%H%M%S\")\n",
    "\n",
    "#結合したいCSVファイルが格納されているフォルダを指定\n",
    "folder = \"output/Centrality/ranked\"\n",
    "#出力ファイル名を指定\n",
    "output = f\"output/Centrality/ranked/Merged_Centrality_{date_time_string}.csv\"\n",
    "\n",
    "print(\"processing...\")\n",
    "\n",
    "all_files = glob.glob(os.path.join(folder, \"*.csv\"))\n",
    "df_list = [pd.read_csv(f) for f in all_files]\n",
    "merged_df = pd.concat(df_list, ignore_index=True)\n",
    "\n",
    "merged_df.to_csv(output, index=False, encoding=\"utf-8-sig\")\n",
    "\n",
    "print(\"done.\")"
   ]
  }
 ],
 "metadata": {
  "kernelspec": {
   "display_name": "Python 3 (ipykernel)",
   "language": "python",
   "name": "python3"
  },
  "language_info": {
   "codemirror_mode": {
    "name": "ipython",
    "version": 3
   },
   "file_extension": ".py",
   "mimetype": "text/x-python",
   "name": "python",
   "nbconvert_exporter": "python",
   "pygments_lexer": "ipython3",
   "version": "3.8.20"
  }
 },
 "nbformat": 4,
 "nbformat_minor": 5
}
