{
 "cells": [
  {
   "cell_type": "code",
   "execution_count": 1,
   "id": "da2798d5-752b-4b3c-98fc-bf0d34b69956",
   "metadata": {},
   "outputs": [
    {
     "name": "stdout",
     "output_type": "stream",
     "text": [
      "XMLファイルが作成されました。\n"
     ]
    }
   ],
   "source": [
    "import requests\n",
    "from bs4 import BeautifulSoup\n",
    "\n",
    "# 取得したいURLを指定\n",
    "url = \"https://www.kirinholdings.com/jp/domains/health_science/kyowahakko-bio/\"\n",
    "\n",
    "\n",
    "# URLからHTMLを取得\n",
    "response = requests.get(url)\n",
    "\n",
    "# レスポンスが成功したか確認\n",
    "if response.status_code == 200:\n",
    "    # バイトデータ (response.content) を使い、from_encoding を指定\n",
    "    soup = BeautifulSoup(response.content, 'lxml', from_encoding='utf-8')\n",
    "\n",
    "    # XMLフォーマットで出力\n",
    "    xml_content = soup.prettify()\n",
    "\n",
    "    # XMLをファイルに保存 (バイトデータとして保存)\n",
    "    with open(\"output.xml\", \"wb\") as file:\n",
    "        file.write(xml_content.encode('utf-8'))\n",
    "\n",
    "    print(\"XMLファイルが作成されました。\")\n",
    "else:\n",
    "    print(f\"URLにアクセスできません。ステータスコード: {response.status_code}\")"
   ]
  },
  {
   "cell_type": "code",
   "execution_count": null,
   "id": "a0800886-895b-4bd4-bcde-70185c0eb3fb",
   "metadata": {},
   "outputs": [],
   "source": []
  }
 ],
 "metadata": {
  "kernelspec": {
   "display_name": "Python 3 (ipykernel)",
   "language": "python",
   "name": "python3"
  },
  "language_info": {
   "codemirror_mode": {
    "name": "ipython",
    "version": 3
   },
   "file_extension": ".py",
   "mimetype": "text/x-python",
   "name": "python",
   "nbconvert_exporter": "python",
   "pygments_lexer": "ipython3",
   "version": "3.8.19"
  }
 },
 "nbformat": 4,
 "nbformat_minor": 5
}
