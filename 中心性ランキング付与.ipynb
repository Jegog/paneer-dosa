{
 "cells": [
  {
   "cell_type": "code",
   "execution_count": null,
   "id": "fd1cc349-f2e5-4579-95f8-88c775db6c29",
   "metadata": {},
   "outputs": [],
   "source": [
    "#Centralityのcsvファイルを読み込み、分析範囲ごとにRANKを計算・付与してcsvファイルを指定したフォルダに保存\n",
    "\n",
    "import os\n",
    "import glob\n",
    "import pandas as pd\n",
    "\n",
    "# 入力フォルダと出力フォルダを定義\n",
    "input_folder = \"output/Centrality\"   # ←ここに対象フォルダのパスを指定\n",
    "output_folder = \"output/Centrality/ranked\"  # 出力フォルダ\n",
    "\n",
    "# 出力フォルダが存在しない場合は作成\n",
    "os.makedirs(output_folder, exist_ok=True)\n",
    "\n",
    "# 対象のスコア列\n",
    "score_columns = [\n",
    "    \"Degree Centrality\",\n",
    "    \"Betweenness Centrality\",\n",
    "    \"Closeness Centrality\",\n",
    "    \"Eigenvector Centrality\"\n",
    "]\n",
    "\n",
    "# 入力フォルダ内のすべてのCSVファイルを処理\n",
    "for file_path in glob.glob(os.path.join(input_folder, \"*.csv\")):\n",
    "\n",
    "    #処理中のファイルを表示\n",
    "    print(file_path)\n",
    "\n",
    "    df = pd.read_csv(file_path)\n",
    "    \n",
    "    # 分析範囲ごとに順位を付けて新しい列を追加（NaNも考慮）\n",
    "    for col in score_columns:\n",
    "        # 念のため、数値変換（非数値はNaN化される）\n",
    "        df[col] = pd.to_numeric(df[col], errors='coerce')\n",
    "    \n",
    "        # 順位列を追加（NaNは自動的に除外される）\n",
    "        df[f\"{col}_Rank\"] = df.groupby(\"分析範囲\")[col].rank(method=\"min\", ascending=False)\n",
    "        \n",
    "        # 整数として表示する場合、NaN以外をint化（見やすさのため）\n",
    "        df[f\"{col}_Rank\"] = df[f\"{col}_Rank\"].apply(lambda x: int(x) if pd.notnull(x) else None)\n",
    "\n",
    "\n",
    "    \n",
    "    # 元ファイル名に '_ranked' を付けて出力ファイル名を作成\n",
    "    base_name = os.path.basename(file_path)\n",
    "    name_without_ext, ext = os.path.splitext(base_name)\n",
    "    ranked_filename = f\"{name_without_ext}_ranked{ext}\"\n",
    "    output_path = os.path.join(output_folder, ranked_filename)\n",
    "    \n",
    "    # BOM付きUTF-8で保存\n",
    "    df.to_csv(output_path, index=False, encoding=\"utf-8-sig\")\n",
    "print(\"すべてのファイルを処理しました。\")\n"
   ]
  }
 ],
 "metadata": {
  "kernelspec": {
   "display_name": "Python 3 (ipykernel)",
   "language": "python",
   "name": "python3"
  },
  "language_info": {
   "codemirror_mode": {
    "name": "ipython",
    "version": 3
   },
   "file_extension": ".py",
   "mimetype": "text/x-python",
   "name": "python",
   "nbconvert_exporter": "python",
   "pygments_lexer": "ipython3",
   "version": "3.8.20"
  }
 },
 "nbformat": 4,
 "nbformat_minor": 5
}
