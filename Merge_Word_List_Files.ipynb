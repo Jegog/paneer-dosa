{
 "cells": [
  {
   "cell_type": "code",
   "execution_count": 1,
   "id": "ee5015d6-2bb0-4aa3-bf53-3654a47ebdc1",
   "metadata": {},
   "outputs": [
    {
     "name": "stdout",
     "output_type": "stream",
     "text": [
      "CSVファイルの結合が完了しました: output/Merged_Word_list.csv\n"
     ]
    }
   ],
   "source": [
    "import os\n",
    "import pandas as pd\n",
    "\n",
    "# 結合するCSVファイルが格納されているフォルダのパス\n",
    "folder_path = \"output/\"\n",
    "\n",
    "# 結合後のCSVファイルの出力パス\n",
    "output_file = os.path.join(folder_path, \"Merged_Word_list.csv\")\n",
    "\n",
    "# ファイル名に\"_Word_list.csv\"を含むCSVファイルを取得\n",
    "csv_files = [os.path.join(folder_path, f) for f in os.listdir(folder_path) if f.endswith(\"_Word_list.csv\")]\n",
    "\n",
    "# データフレームのリスト\n",
    "dfs = []\n",
    "\n",
    "# 各CSVファイルを読み込んでデータフレームに変換\n",
    "for file in csv_files:\n",
    "    # ヘッダーを読み込む\n",
    "    df = pd.read_csv(file)\n",
    "    \n",
    "    # ヘッダーを除いてリストに追加\n",
    "    dfs.append(df)\n",
    "\n",
    "# データフレームを結合\n",
    "merged_df = pd.concat(dfs, ignore_index=True)\n",
    "\n",
    "# 結合後のデータフレームをCSVファイルに出力\n",
    "merged_df.to_csv(output_file, index=False, encoding='utf-8-sig')\n",
    "\n",
    "print(f\"CSVファイルの結合が完了しました: {output_file}\")\n"
   ]
  }
 ],
 "metadata": {
  "kernelspec": {
   "display_name": "Python 3 (ipykernel)",
   "language": "python",
   "name": "python3"
  },
  "language_info": {
   "codemirror_mode": {
    "name": "ipython",
    "version": 3
   },
   "file_extension": ".py",
   "mimetype": "text/x-python",
   "name": "python",
   "nbconvert_exporter": "python",
   "pygments_lexer": "ipython3",
   "version": "3.8.19"
  }
 },
 "nbformat": 4,
 "nbformat_minor": 5
}
