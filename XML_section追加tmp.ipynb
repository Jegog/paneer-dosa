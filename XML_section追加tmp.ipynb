{
 "cells": [
  {
   "cell_type": "code",
   "execution_count": 1,
   "id": "b1c054e4-0f29-4460-ad01-c86e217f7472",
   "metadata": {},
   "outputs": [],
   "source": []
  },
  {
   "cell_type": "code",
   "execution_count": 20,
   "id": "0210b043-aa85-456f-9a9f-c538a566677e",
   "metadata": {},
   "outputs": [
    {
     "name": "stdout",
     "output_type": "stream",
     "text": [
      "変更後のXMLが ir/2025/40610_デンカ/denkareport2024_mod1.txt に保存されました。\n"
     ]
    }
   ],
   "source": [
    "import xml.etree.ElementTree as ET\n",
    "import html\n",
    "def add_wrapping_section_to_pages(xml_file, page_list, new_section_type, output_file):\n",
    "    \"\"\"\n",
    "    指定したページの既存の <section> を、新しい <section> でラップし、変更後のXMLをファイルに保存\n",
    "    :param xml_file: 入力XMLファイルのパス\n",
    "    :param page_list: セクションを追加するページ番号のリスト\n",
    "    :param new_section_type: 追加するセクションの type 属性\n",
    "    :param output_file: 変更後のXMLを保存するファイルのパス\n",
    "    \"\"\"\n",
    "    # XMLファイルを読み込む\n",
    "    with open(xml_file, \"r\", encoding=\"utf-8\") as file:\n",
    "        xml_text = file.read()\n",
    "\n",
    "    root = ET.fromstring(xml_text)\n",
    "    \n",
    "    for page_num in page_list:\n",
    "        # 指定したページを検索\n",
    "        page = root.find(f\".//page[@n='{page_num}']\")\n",
    "        if page is not None:\n",
    "\n",
    "            # 新しいセクションを作成\n",
    "            new_section = ET.Element(\"section\", {\"type\": new_section_type})\n",
    "            # ダミーのテキストノードを追加（空のタグにならないようにする）\n",
    "            new_section.text = \"\\n\"\n",
    "\n",
    "            # 既存のセクションをすべて取得\n",
    "            existing_sections = list(page)\n",
    "\n",
    "            # 既存のセクションをすべて新しいセクション内に移動\n",
    "            for section in existing_sections:\n",
    "                page.remove(section)  # ページから削除\n",
    "                new_section.append(section)  # 新しいセクションの子要素に追加\n",
    "            \n",
    "            # 新しいセクションをページの最初に追加\n",
    "            page.insert(0, new_section)\n",
    "    \n",
    "    # 変更後のXMLを文字列化\n",
    "    new_xml_text = ET.tostring(root, encoding=\"unicode\")\n",
    "\n",
    "    # 変更後のXMLをファイルに保存\n",
    "    with open(output_file, \"w\", encoding=\"utf-8\") as file:\n",
    "        file.write(new_xml_text)\n",
    "\n",
    "    print(f\"変更後のXMLが {output_file} に保存されました。\")\n",
    "\n",
    "# 使用例\n",
    "input_txt_file = \"ir/2025/40610_デンカ/denkareport2024.txt\"  # 読み込むXMLファイル\n",
    "output_txt_file = \"ir/2025/40610_デンカ/denkareport2024_mod1.txt\"  # 変更後のXMLを保存するファイル\n",
    "page_list = [2]  # 変更するページ番号\n",
    "new_section_type = \"CEO_Message\"  # 追加するセクションのtype\n",
    "\n",
    "\n",
    "# 実行\n",
    "#escape_special_chars_in_file(input_xml_file, escaped_input_txt_file)\n",
    "\n",
    "\n",
    "# 実行\n",
    "add_wrapping_section_to_pages(input_txt_file, page_list, new_section_type, output_txt_file)\n"
   ]
  },
  {
   "cell_type": "code",
   "execution_count": null,
   "id": "2fa7f516-a8ca-4e7d-8009-b7c74039b9dc",
   "metadata": {},
   "outputs": [],
   "source": []
  }
 ],
 "metadata": {
  "kernelspec": {
   "display_name": "Python 3 (ipykernel)",
   "language": "python",
   "name": "python3"
  },
  "language_info": {
   "codemirror_mode": {
    "name": "ipython",
    "version": 3
   },
   "file_extension": ".py",
   "mimetype": "text/x-python",
   "name": "python",
   "nbconvert_exporter": "python",
   "pygments_lexer": "ipython3",
   "version": "3.8.20"
  }
 },
 "nbformat": 4,
 "nbformat_minor": 5
}
