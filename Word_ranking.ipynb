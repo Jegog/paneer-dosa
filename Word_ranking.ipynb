{
 "cells": [
  {
   "cell_type": "code",
   "execution_count": 1,
   "id": "38aca94a-8a31-4e61-8633-d8cf1f3bb62f",
   "metadata": {},
   "outputs": [
    {
     "name": "stdout",
     "output_type": "stream",
     "text": [
      "処理が完了しました。結果はaggregated_rank_results_value.csvとhistogram_results_value.csvに保存されました。\n"
     ]
    }
   ],
   "source": [
    "import pandas as pd\n",
    "import glob\n",
    "import numpy as np\n",
    "\n",
    "# 1. 必要なライブラリをインポートする\n",
    "from pathlib import Path\n",
    "\n",
    "# 2. \"_Word_list.csv\"ファイルを読み込む\n",
    "file_path = 'output/Value/Word_list'  # フォルダのパスを指定してください\n",
    "word_list_files = glob.glob(f\"{file_path}/*_Word_list.csv\")\n",
    "\n",
    "# Keyword1.csvを読み込む\n",
    "keyword_df = pd.read_csv('output/Value/Keywords1.csv', header=None)\n",
    "keywords = keyword_df[0].tolist()\n",
    "\n",
    "results = []\n",
    "histogram_results = []\n",
    "\n",
    "# 3. 各ファイルについて、\"件数\"に基づいて順位を計算する\n",
    "for file in word_list_files:\n",
    "    df = pd.read_csv(file)\n",
    "    \n",
    "    # 4. \"件数\"の順位を計算\n",
    "    df['順位'] = df['件数'].rank(method='min', ascending=False).astype(int)\n",
    "    \n",
    "    # 5. Keyword1.csvの単語と照合し、該当するレコードを抽出\n",
    "    matched_df = df[df['単語'].isin(keywords)]\n",
    "    \n",
    "    # 結果をリストに追加\n",
    "    results.append(matched_df)\n",
    "    \n",
    "    # ヒストグラムを計算するための準備\n",
    "    industry_code = matched_df['業種'].iloc[0]\n",
    "    stock_code = matched_df['コード'].iloc[0]\n",
    "    stock_name = matched_df['銘柄名'].iloc[0]\n",
    "    analysis_range = matched_df['分析範囲'].iloc[0]\n",
    "    \n",
    "    # ヒストグラム計算（幅100）\n",
    "    bin_width = 100\n",
    "    max_rank = matched_df['順位'].max()\n",
    "    bins = np.arange(1, max_rank + bin_width, bin_width)\n",
    "    histogram, bin_edges = np.histogram(matched_df['順位'], bins=bins)\n",
    "    \n",
    "    # ヒストグラム結果をデータフレームに変換\n",
    "    for i in range(len(histogram)):\n",
    "        bin_range = f\"{bin_edges[i]}-{bin_edges[i+1]-1}\"\n",
    "        count = histogram[i]\n",
    "        histogram_results.append({\n",
    "            '業種': industry_code,\n",
    "            'コード': stock_code,\n",
    "            '銘柄名': stock_name,\n",
    "            '分析範囲': analysis_range,\n",
    "            '順位範囲': bin_range,\n",
    "            '件数': count\n",
    "        })\n",
    "\n",
    "# 6. 全ての結果を一つのデータフレームにまとめる\n",
    "final_df = pd.concat(results)\n",
    "\n",
    "# 結果をCSVに出力\n",
    "final_df.to_csv('output/Value/aggregated_rank_results_value.csv', index=False, encoding='utf-8-sig')\n",
    "\n",
    "# ヒストグラム結果をデータフレームにまとめる\n",
    "histogram_df = pd.DataFrame(histogram_results)\n",
    "\n",
    "# ヒストグラム結果をCSVに出力\n",
    "histogram_df.to_csv('output/Value/histogram_results_value.csv', index=False, encoding='utf-8-sig')\n",
    "\n",
    "print(\"処理が完了しました。結果はaggregated_rank_results_value.csvとhistogram_results_value.csvに保存されました。\")\n"
   ]
  },
  {
   "cell_type": "code",
   "execution_count": null,
   "id": "4210a244-78b5-47e6-b4c3-f25ca73b8a2d",
   "metadata": {},
   "outputs": [],
   "source": []
  }
 ],
 "metadata": {
  "kernelspec": {
   "display_name": "Python 3 (ipykernel)",
   "language": "python",
   "name": "python3"
  },
  "language_info": {
   "codemirror_mode": {
    "name": "ipython",
    "version": 3
   },
   "file_extension": ".py",
   "mimetype": "text/x-python",
   "name": "python",
   "nbconvert_exporter": "python",
   "pygments_lexer": "ipython3",
   "version": "3.8.19"
  }
 },
 "nbformat": 4,
 "nbformat_minor": 5
}
