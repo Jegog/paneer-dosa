{
 "cells": [
  {
   "cell_type": "code",
   "execution_count": 9,
   "id": "dd37938f-7dba-413b-9eeb-f2b13d4cd584",
   "metadata": {},
   "outputs": [
    {
     "name": "stdout",
     "output_type": "stream",
     "text": [
      "        1番目      2番目  count    コード    企業名 分析範囲  flag1  flag2\n",
      "0       KPI  マテリアリティ      1  79360  アシックス  all      1      1\n",
      "1      バリュー  マーケティング      1  79360  アシックス  all      1      1\n",
      "2      ビジョン       強化      1  79360  アシックス  all      1      1\n",
      "3      ビジョン       戦略      1  79360  アシックス  all      1      1\n",
      "4  ブランドイメージ       浸透      1  79360  アシックス  all      1      1\n",
      "5   マテリアリティ       管理      1  79360  アシックス  all      1      1\n",
      "6        保護       商標      1  79360  アシックス  all      1      1\n",
      "7   マテリアリティ       戦略      2  79360  アシックス  all      1      1\n",
      "8   マテリアリティ      リスク      4  79360  アシックス  all      1      1\n"
     ]
    }
   ],
   "source": [
    "from google.cloud import bigquery\n",
    "import pandas as pd\n",
    "\n",
    "client = bigquery.Client()\n",
    "\n",
    "# 例：テストクエリ（公開データセットでもOK）\n",
    "sql = \"\"\"\n",
    "SELECT \n",
    "    data.`1番目` AS `1番目`,\n",
    "    data.`2番目` AS `2番目`,\n",
    "    data.count,\n",
    "    data.`コード` AS `コード`,\n",
    "    data.`企業名` AS `企業名`,\n",
    "    data.`分析範囲` AS `分析範囲`,\n",
    "    CASE \n",
    "        WHEN k1.Keyword IS NOT NULL THEN 1 \n",
    "        ELSE 0 \n",
    "    END AS flag1,\n",
    "    CASE \n",
    "        WHEN k2.Keyword IS NOT NULL THEN 1 \n",
    "        ELSE 0 \n",
    "    END AS flag2\n",
    "FROM \n",
    "    `my-ip-project-425607.LESJ_Textmining.79360_アシックス_Co-Occurrence_2020` data\n",
    "LEFT JOIN \n",
    "    `my-ip-project-425607.LESJ_Textmining.Brand_Keyword_A` k1\n",
    "ON \n",
    "    data.`1番目` = k1.Keyword OR data.`2番目` = k1.Keyword\n",
    "LEFT JOIN \n",
    "    `my-ip-project-425607.LESJ_Textmining.Brand_Keyword_B` k2\n",
    "ON \n",
    "    data.`1番目` = k2.Keyword OR data.`2番目` = k2.Keyword\n",
    "WHERE\n",
    "    (k1.Keyword IS NOT NULL) AND (k2.Keyword IS NOT NULL) AND (data.`分析範囲` = \"all\");\n",
    "\n",
    "\"\"\"\n",
    "\n",
    "df = client.query(sql).to_dataframe()\n",
    "print(df)\n",
    "output_folder = 'output'\n",
    "\n",
    "file_name = \"Asics共起_KeywordA_and_Keyword_B_2020.csv\"\n",
    "\n",
    "file_path = output_folder + '/' + file_name\n",
    "df.to_csv(file_path, encoding=\"utf_8_sig\", index=False)"
   ]
  },
  {
   "cell_type": "code",
   "execution_count": null,
   "id": "9d5e94dd-0ca1-4930-9a31-ec33d3f6dc3a",
   "metadata": {},
   "outputs": [],
   "source": []
  }
 ],
 "metadata": {
  "kernelspec": {
   "display_name": "Python 3 (ipykernel)",
   "language": "python",
   "name": "python3"
  },
  "language_info": {
   "codemirror_mode": {
    "name": "ipython",
    "version": 3
   },
   "file_extension": ".py",
   "mimetype": "text/x-python",
   "name": "python",
   "nbconvert_exporter": "python",
   "pygments_lexer": "ipython3",
   "version": "3.8.20"
  }
 },
 "nbformat": 4,
 "nbformat_minor": 5
}
