{
 "cells": [
  {
   "cell_type": "code",
   "execution_count": 19,
   "id": "68a890ae-f9e3-4cc1-8011-c75261105bc4",
   "metadata": {},
   "outputs": [],
   "source": [
    "# 情報収集先のフォルダ\n",
    "folder_path = 'data/XBRL/Target'"
   ]
  },
  {
   "cell_type": "code",
   "execution_count": 26,
   "id": "084d9723-c4fe-43f0-8192-16f1c3694d2d",
   "metadata": {},
   "outputs": [
    {
     "name": "stdout",
     "output_type": "stream",
     "text": [
      "                   Folder Name    書類管理番号      書類名 EDINETコード             提出者  \\\n",
      "0  Xbrl_Search_20240419_152847  S100R5K4  有価証券報告書    E00691      特種東海製紙株式会社   \n",
      "1  Xbrl_Search_20240419_152909  S100R87F  有価証券報告書    E00642  王子ホールディングス株式会社   \n",
      "2  Xbrl_Search_20240419_152923  S100R8UQ  有価証券報告書    E11873        日本製紙株式会社   \n",
      "3  Xbrl_Search_20240419_152939  S100R82J  有価証券報告書    E00644        三菱製紙株式会社   \n",
      "4  Xbrl_Search_20240419_152951  S100R6PJ  有価証券報告書    E00645  北越コーポレーション株式会社   \n",
      "5  Xbrl_Search_20240419_153004  S100R7Q8  有価証券報告書    E00649     中越パルプ工業株式会社   \n",
      "6  Xbrl_Search_20240419_153021  S100R8GL  有価証券報告書    E00660        大王製紙株式会社   \n",
      "7  Xbrl_Search_20240419_153035  S100R69D  有価証券報告書    E00659        レンゴー株式会社   \n",
      "8  Xbrl_Search_20240419_153051  S100R35K  有価証券報告書    E00669        株式会社トーモク   \n",
      "9  Xbrl_Search_20240419_164914  S100T5K9  有価証券報告書    E00674       ザ・パック株式会社   \n",
      "\n",
      "         提出者法人番号  \n",
      "0  3080001014336  \n",
      "1  5010001034743  \n",
      "2  8011501009422  \n",
      "3  8010001008769  \n",
      "4  6110001023149  \n",
      "5  3010001034877  \n",
      "6  9500001014345  \n",
      "7  1120001036880  \n",
      "8  7010001024692  \n",
      "9  5120001012382  \n"
     ]
    }
   ],
   "source": [
    "#ダウンロード・展開したEDINETデータフォルダから、書類管理番号、提出者等の情報を取得\n",
    "import os\n",
    "import pandas as pd\n",
    "import csv\n",
    "\n",
    "def collect_edinet_info(folder_path):\n",
    "    edinet_data = []  # データを格納するリスト\n",
    "\n",
    "    # フォルダ内のすべてのファイルとフォルダを取得\n",
    "    for root, dirs, files in os.walk(folder_path):\n",
    "        for file_name in files:\n",
    "            # ファイルがXbrlSearchDlInfo.csvであるか確認\n",
    "            if file_name == 'XbrlSearchDlInfo.csv':\n",
    "                file_path = os.path.join(root, file_name)\n",
    "                try:\n",
    "                    # CSVファイルを読み込む\n",
    "                    with open(file_path, 'r', encoding='Shift_JIS') as csvfile:\n",
    "                        csvreader = csv.reader(csvfile)\n",
    "                        # 3行目を取得\n",
    "                        for _ in range(3):\n",
    "                            third_line = next(csvreader)\n",
    "                        # フォルダ名と3行目の情報をリストに追加\n",
    "                        edinet_data.append([os.path.basename(root)] + third_line)\n",
    "                except Exception as e:\n",
    "                    print(f\"Error reading file {file_path}: {e}\")\n",
    "\n",
    "    # データフレームを作成\n",
    "    columns = ['Folder Name', '書類管理番号', '書類名', 'EDINETコード', '提出者', '提出者法人番号']\n",
    "    df = pd.DataFrame(edinet_data, columns=columns)\n",
    "    return df\n",
    "\n",
    "# 関数を呼び出してデータフレームを取得\n",
    "result_df = collect_edinet_info(folder_path)\n",
    "print(result_df)\n"
   ]
  },
  {
   "cell_type": "code",
   "execution_count": 32,
   "id": "5fdb5742-444b-465e-843a-4765c7deb719",
   "metadata": {},
   "outputs": [
    {
     "name": "stdout",
     "output_type": "stream",
     "text": [
      "0    E00691\n",
      "1    E00642\n",
      "2    E11873\n",
      "3    E00644\n",
      "4    E00645\n",
      "5    E00649\n",
      "6    E00660\n",
      "7    E00659\n",
      "8    E00669\n",
      "9    E00674\n",
      "Name: EDINETコード, dtype: object\n"
     ]
    }
   ],
   "source": [
    "print(result_df['EDINETコード'])"
   ]
  },
  {
   "cell_type": "code",
   "execution_count": null,
   "id": "1f91b312-6299-43a2-bf57-dd5248ee1358",
   "metadata": {},
   "outputs": [],
   "source": []
  }
 ],
 "metadata": {
  "kernelspec": {
   "display_name": "Python 3 (ipykernel)",
   "language": "python",
   "name": "python3"
  },
  "language_info": {
   "codemirror_mode": {
    "name": "ipython",
    "version": 3
   },
   "file_extension": ".py",
   "mimetype": "text/x-python",
   "name": "python",
   "nbconvert_exporter": "python",
   "pygments_lexer": "ipython3",
   "version": "3.8.19"
  }
 },
 "nbformat": 4,
 "nbformat_minor": 5
}
