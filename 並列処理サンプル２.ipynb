{
 "cells": [
  {
   "cell_type": "code",
   "execution_count": 12,
   "id": "f3ec4de4-0523-45e9-ade9-7a43932fb7a0",
   "metadata": {},
   "outputs": [
    {
     "ename": "ModuleNotFoundError",
     "evalue": "No module named 'nltk'",
     "output_type": "error",
     "traceback": [
      "\u001b[0;31m---------------------------------------------------------------------------\u001b[0m",
      "\u001b[0;31mModuleNotFoundError\u001b[0m                       Traceback (most recent call last)",
      "Cell \u001b[0;32mIn[12], line 5\u001b[0m\n\u001b[1;32m      3\u001b[0m \u001b[38;5;28;01mfrom\u001b[39;00m \u001b[38;5;21;01mconcurrent\u001b[39;00m\u001b[38;5;21;01m.\u001b[39;00m\u001b[38;5;21;01mfutures\u001b[39;00m \u001b[38;5;28;01mimport\u001b[39;00m ThreadPoolExecutor, ProcessPoolExecutor\n\u001b[1;32m      4\u001b[0m \u001b[38;5;28;01mimport\u001b[39;00m \u001b[38;5;21;01mos\u001b[39;00m\n\u001b[0;32m----> 5\u001b[0m \u001b[38;5;28;01mimport\u001b[39;00m \u001b[38;5;21;01mnltk\u001b[39;00m\n\u001b[1;32m      7\u001b[0m \u001b[38;5;66;03m# ファイルの読み込み（I/Oバウンド）\u001b[39;00m\n\u001b[1;32m      8\u001b[0m \u001b[38;5;28;01mdef\u001b[39;00m \u001b[38;5;21mload_file\u001b[39m(file_path):\n",
      "\u001b[0;31mModuleNotFoundError\u001b[0m: No module named 'nltk'"
     ]
    }
   ],
   "source": [
    "#並列処理サンプル\n",
    "#テキストファイルを並列で読み込み、トークナイゼーションを行う例\n",
    "#I/Oバウンド処理とCPUバウンド処理を使い分け\n",
    "\n",
    "from concurrent.futures import ThreadPoolExecutor, ProcessPoolExecutor\n",
    "import os\n",
    "import nltk\n",
    "\n",
    "# ファイルの読み込み（I/Oバウンド）\n",
    "def load_file(file_path):\n",
    "    try:\n",
    "        with open(file_path, 'r', encoding='utf-8') as f:\n",
    "            content = f.read()\n",
    "        return content\n",
    "    except Exception as e:\n",
    "        print(f\"Error loading {file_path}: {e}\")\n",
    "        return None\n",
    "\n",
    "# テキストの前処理（CPUバウンド）\n",
    "def tokenize_text(text):\n",
    "    return nltk.word_tokenize(text)\n",
    "\n",
    "def main():\n",
    "    file_paths = [f\"text_{i}.txt\" for i in range(1, 11)]\n",
    "\n",
    "    # 1. I/Oバウンド処理: ファイルの読み込み\n",
    "    with ThreadPoolExecutor(max_workers=4) as executor:\n",
    "        texts = list(executor.map(load_file, file_paths))\n",
    "    \n",
    "    # 2. CPUバウンド処理: トークナイゼーション\n",
    "    with ProcessPoolExecutor(max_workers=os.cpu_count()) as executor:\n",
    "        tokenized_texts = list(executor.map(tokenize_text, texts))\n",
    "\n",
    "    # 結果の確認\n",
    "    for i, tokens in enumerate(tokenized_texts, 1):\n",
    "        print(f\"File {i}: {tokens[:10]}\")  # 最初の10トークンを表示\n",
    "\n",
    "if __name__ == \"__main__\":\n",
    "    nltk.download('punkt')\n",
    "    main()\n"
   ]
  }
 ],
 "metadata": {
  "kernelspec": {
   "display_name": "Python 3 (ipykernel)",
   "language": "python",
   "name": "python3"
  },
  "language_info": {
   "codemirror_mode": {
    "name": "ipython",
    "version": 3
   },
   "file_extension": ".py",
   "mimetype": "text/x-python",
   "name": "python",
   "nbconvert_exporter": "python",
   "pygments_lexer": "ipython3",
   "version": "3.8.19"
  }
 },
 "nbformat": 4,
 "nbformat_minor": 5
}
