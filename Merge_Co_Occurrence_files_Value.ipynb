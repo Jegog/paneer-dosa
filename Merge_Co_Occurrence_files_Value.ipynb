{
 "cells": [
  {
   "cell_type": "code",
   "execution_count": 1,
   "id": "2745662f-eecc-4842-9699-1cf2cd17e115",
   "metadata": {
    "scrolled": true
   },
   "outputs": [],
   "source": [
    "import pandas as pd\n",
    "import glob\n",
    "\n",
    "# CSVファイルがあるディレクトリのパス\n",
    "path = 'output/Value/Co-Occurrence'\n",
    "\n",
    "# ファイルパターンに一致するCSVファイルをすべて取得\n",
    "csv_files = glob.glob(path + \"/*.csv\")\n",
    "\n",
    "# 空のデータフレームを作成\n",
    "merged_df = pd.DataFrame()\n",
    "\n",
    "# 各CSVファイルを処理\n",
    "for file in csv_files:\n",
    "    # ファイル名を取得し、必要な部分に分割\n",
    "    file_name = file.split('/')[-1]\n",
    "    #print(file_name)\n",
    "    code, company, date, item1, item2 = file_name.split('_')\n",
    "    \n",
    "    # CSVファイルをデータフレームとして読み込む\n",
    "    df = pd.read_csv(file)\n",
    "    \n",
    "    # 'コード'と'企業名'の列を追加\n",
    "    df['コード'] = code\n",
    "    df['企業名'] = company\n",
    "    \n",
    "    # マージするデータフレームに追加\n",
    "    merged_df = pd.concat([merged_df, df], ignore_index=True)\n",
    "\n",
    "# マージされたデータフレームをCSVファイルとして保存\n",
    "merged_df.to_csv('merged_Co-Occurrence_Value.csv', index=False,encoding='utf-8-sig')\n"
   ]
  },
  {
   "cell_type": "code",
   "execution_count": null,
   "id": "251643db-f901-4d60-9328-997ba1cbda3b",
   "metadata": {},
   "outputs": [],
   "source": []
  }
 ],
 "metadata": {
  "kernelspec": {
   "display_name": "Python 3 (ipykernel)",
   "language": "python",
   "name": "python3"
  },
  "language_info": {
   "codemirror_mode": {
    "name": "ipython",
    "version": 3
   },
   "file_extension": ".py",
   "mimetype": "text/x-python",
   "name": "python",
   "nbconvert_exporter": "python",
   "pygments_lexer": "ipython3",
   "version": "3.8.19"
  }
 },
 "nbformat": 4,
 "nbformat_minor": 5
}
