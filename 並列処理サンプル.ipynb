{
 "cells": [
  {
   "cell_type": "code",
   "execution_count": null,
   "id": "b725e895-30b7-4068-92ef-4b0c43fe3dcf",
   "metadata": {},
   "outputs": [],
   "source": [
    "#並列処理のサンプル\n",
    "\n",
    "from concurrent.futures import ThreadPoolExecutor, as_completed\n",
    "\n",
    "# 並列処理の例\n",
    "def process_file(file_path):\n",
    "    \"\"\"\n",
    "    ダミーのファイル処理関数\n",
    "    \"\"\"\n",
    "    print(f\"Processing {file_path}\")\n",
    "    return f\"Success: {file_path}\"\n",
    "\n",
    "# 並列処理のメインルーチン\n",
    "def parallel_processing(file_paths, max_workers=4):\n",
    "    results = []\n",
    "    with ThreadPoolExecutor(max_workers=max_workers) as executor:\n",
    "        # タスクのスケジューリング\n",
    "        future_to_file = {executor.submit(process_file, path): path for path in file_paths}\n",
    "\n",
    "        # タスクの結果収集\n",
    "        for future in as_completed(future_to_file):\n",
    "            file_path = future_to_file[future]\n",
    "            try:\n",
    "                result = future.result()  # タスクの結果取得\n",
    "                results.append(result)\n",
    "            except Exception as e:\n",
    "                error_message = f\"Error processing {file_path}: {e}\"\n",
    "                print(error_message)\n",
    "                results.append(error_message)\n",
    "    \n",
    "    return results\n"
   ]
  }
 ],
 "metadata": {
  "kernelspec": {
   "display_name": "Python 3 (ipykernel)",
   "language": "python",
   "name": "python3"
  },
  "language_info": {
   "codemirror_mode": {
    "name": "ipython",
    "version": 3
   },
   "file_extension": ".py",
   "mimetype": "text/x-python",
   "name": "python",
   "nbconvert_exporter": "python",
   "pygments_lexer": "ipython3",
   "version": "3.8.19"
  }
 },
 "nbformat": 4,
 "nbformat_minor": 5
}
