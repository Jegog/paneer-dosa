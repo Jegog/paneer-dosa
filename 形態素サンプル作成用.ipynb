{
 "cells": [
  {
   "cell_type": "code",
   "execution_count": 29,
   "id": "7a60a3a9-a2cf-456f-8e64-3c7a9bf98b34",
   "metadata": {},
   "outputs": [],
   "source": [
    "import pandas as pd\n",
    "import MeCab\n",
    "import fitz\n",
    "import re\n",
    "import sys\n",
    "import itertools\n",
    "from collections import Counter\n"
   ]
  },
  {
   "cell_type": "code",
   "execution_count": 69,
   "id": "2bcb7c9b-5838-47fc-bf06-b3cc3135f179",
   "metadata": {},
   "outputs": [],
   "source": [
    "\n",
    "text = \"管理籍\"\n",
    "text=\"そして、このしくみの対象となる当社グループ会社（国内）は、みずから生み出しまたは譲り受けた特許等を、PHDへの法的名義集約後も管理し（「管理籍」の保持）、当該特許等の費用を負担し、収益を収受します。\"\n",
    "text=\"現在のソニーでは、Purposeの推進に向け、これら価値創造のドライバーに対する経営資源の重点配分や、ドライバーのさらなる融合に注力しています。事業間連携は定着しつつあり、コンテンツIPのグループ内での展開によるIP価値向上や、事業を横断したテクノロジーの活用プロジェクトが増加しています。\"\n",
    "text=\"　「感動」を創り、届けるため、感動クリエイション、すなわちコンテンツIPの強化に取り組んでいます。\\nコンテンツそのものへの投資に加え、クリエイターに近づき、感動を創る力にも投資しています。過去5年のコンテンツIPへの投資額は約1兆円です。\"\n",
    "#text=\"…そして、このしくみの対象となる当社グループ会社（国内）は、みずから生み出しまたは譲り受けた特許等を、PHDへの法的名義集約後も管理し（「管理籍」の保持）、当該特許等の費用を負担し、収益を収受します。\"\n",
    "#text = \"貴社の記者が汽車で帰社した。\""
   ]
  },
  {
   "cell_type": "code",
   "execution_count": 70,
   "id": "47a40af8-53e7-4e01-bcc7-e7e7fe58c2f7",
   "metadata": {},
   "outputs": [],
   "source": [
    "def talknizer_bare(text):\n",
    "    \n",
    "#    path1 = \"-Ochasen -d /usr/lib/x86_64-linux-gnu/mecab/dic/mecab-ipadic-neologd\"\n",
    "    path1 = \"-d /usr/lib/x86_64-linux-gnu/mecab/dic/mecab-ipadic-neologd\"\n",
    "    mecab = MeCab.Tagger(path1)\n",
    "    parsed_lines = mecab.parse(text).split(\"\\n\")[:-2]\n",
    "    \n",
    "    token_list = [l.split(\"\\t\") for l in parsed_lines]#原形を取得\n",
    "\n",
    "    return token_list\n",
    "\n",
    "def token_bare(text):\n",
    "    \n",
    "    path1 = \"-Ochasen -d /usr/lib/x86_64-linux-gnu/mecab/dic/mecab-ipadic-neologd\"\n",
    "#    path1 = \"-d /usr/lib/x86_64-linux-gnu/mecab/dic/mecab-ipadic-neologd\"\n",
    "    mecab = MeCab.Tagger(path1)\n",
    "    parsed_lines = mecab.parse(text).split(\"\\n\")[:-2]\n",
    "    \n",
    "    token_list = [l.split(\"\\t\")[2] for l in parsed_lines]#原形を取得\n",
    "\n",
    "    return token_list\n",
    "\n",
    "\n",
    "def token_with_userdic(text):\n",
    "    \n",
    "    path1 = \"-Ochasen -d /usr/lib/x86_64-linux-gnu/mecab/dic/mecab-ipadic-neologd\"\n",
    "    path2 = \" -u /work_dir/userdic/user.dic\"\n",
    "    mecab = MeCab.Tagger(path1+path2)\n",
    "    parsed_lines = mecab.parse(text).split(\"\\n\")[:-2]\n",
    "    \n",
    "    token_list = [l.split(\"\\t\")[2] for l in parsed_lines]#原形を取得\n",
    "\n",
    "    return token_list\n",
    "\n",
    "def token_noun(text):\n",
    "    \n",
    "    path1 = \"-Ochasen -d /usr/lib/x86_64-linux-gnu/mecab/dic/mecab-ipadic-neologd\"\n",
    "#    path1 = \"-d /usr/lib/x86_64-linux-gnu/mecab/dic/mecab-ipadic-neologd\"\n",
    "    mecab = MeCab.Tagger(path1)\n",
    "    parsed_lines = mecab.parse(text).split(\"\\n\")[:-2]\n",
    "    \n",
    "    token_list = [l.split(\"\\t\")[2] for l in parsed_lines]#原形を取得\n",
    "\n",
    "    #--------------------------------------------\n",
    "    #品詞区分による絞り込み：Chasenの品詞区分を個別に指定する場合\n",
    "    #品詞区分の取得（リスト形式）\n",
    "    pos = [l.split('\\t')[3] for l in parsed_lines]\n",
    "\n",
    "    #抽出する品詞区分の定義（完全一致で指定）\n",
    "    target_pos = ['名詞-一般',\n",
    "                  '名詞-固有名詞-一般',\n",
    "                  '名詞-固有名詞-人名-一般',\n",
    "                  '名詞-固有名詞-人名-姓',\n",
    "                  '名詞-固有名詞-人名-名',\n",
    "                  '名詞-固有名詞-組織',\n",
    "                  '名詞-固有名詞-地域-一般',\n",
    "                  '名詞-固有名詞-地域-国',\n",
    "                  '名詞-代名詞-一般',\n",
    "                  '名詞-代名詞-縮約',\n",
    "                  '名詞-副詞可能',\n",
    "                  '名詞-サ変接続',\n",
    "                  '名詞-形容動詞語幹',\n",
    "                  '名詞-ナイ形容詞語幹'\n",
    "                 ]\n",
    "    #--------------------------------------------\n",
    "    #形態素と品詞区分のリストをペアにしてタプルリスト化、該当する品詞区分の形態素のみリストに出力\n",
    "    token_list = [t for t, p in zip(token_list, pos) if p in target_pos]\n",
    "    return token_list\n",
    "\n",
    "def token_noun_with_userdic(text):\n",
    "    \n",
    "    path1 = \"-Ochasen -d /usr/lib/x86_64-linux-gnu/mecab/dic/mecab-ipadic-neologd\"\n",
    "    path2 = \" -u /work_dir/userdic/user.dic\"\n",
    "    mecab = MeCab.Tagger(path1+path2)\n",
    "    parsed_lines = mecab.parse(text).split(\"\\n\")[:-2]\n",
    "    \n",
    "    token_list = [l.split(\"\\t\")[2] for l in parsed_lines]#原形を取得\n",
    "\n",
    "    #--------------------------------------------\n",
    "    #品詞区分による絞り込み：Chasenの品詞区分を個別に指定する場合\n",
    "    #品詞区分の取得（リスト形式）\n",
    "    pos = [l.split('\\t')[3] for l in parsed_lines]\n",
    "\n",
    "    #抽出する品詞区分の定義（完全一致で指定）\n",
    "    target_pos = ['名詞-一般',\n",
    "                  '名詞-固有名詞-一般',\n",
    "                  '名詞-固有名詞-人名-一般',\n",
    "                  '名詞-固有名詞-人名-姓',\n",
    "                  '名詞-固有名詞-人名-名',\n",
    "                  '名詞-固有名詞-組織',\n",
    "                  '名詞-固有名詞-地域-一般',\n",
    "                  '名詞-固有名詞-地域-国',\n",
    "                  '名詞-代名詞-一般',\n",
    "                  '名詞-代名詞-縮約',\n",
    "                  '名詞-副詞可能',\n",
    "                  '名詞-サ変接続',\n",
    "                  '名詞-形容動詞語幹',\n",
    "                  '名詞-ナイ形容詞語幹'\n",
    "                 ]\n",
    "    #--------------------------------------------\n",
    "    #形態素と品詞区分のリストをペアにしてタプルリスト化、該当する品詞区分の形態素のみリストに出力\n",
    "    token_list = [t for t, p in zip(token_list, pos) if p in target_pos]\n",
    "    return token_list\n",
    "\n"
   ]
  },
  {
   "cell_type": "code",
   "execution_count": 98,
   "id": "843185b0-1d8a-4ac6-bf54-60186a2890ce",
   "metadata": {},
   "outputs": [],
   "source": [
    "#集約したテキストを「。」で区切り、形態素解析（共起分析用）\n",
    "sentences = [token_noun_with_userdic(sentence) for sentence in re.split(\"。\", text)]\n",
    "#sentences = [token_noun(sentence) for sentence in re.split(\"。\", text)]"
   ]
  },
  {
   "cell_type": "code",
   "execution_count": 99,
   "id": "e2e952d7-2db5-483d-9e22-ed4e5acbf459",
   "metadata": {},
   "outputs": [
    {
     "name": "stdout",
     "output_type": "stream",
     "text": [
      "[['感動', '感動', 'Creation', 'コンテンツIP', '強化'], ['コンテンツ', 'そのもの', '投資', 'Creator', '感動', '力', '投資'], ['過去', '5年', 'コンテンツIP', '投資額', '1兆円'], []]\n"
     ]
    }
   ],
   "source": [
    "print(sentences)"
   ]
  },
  {
   "cell_type": "code",
   "execution_count": 100,
   "id": "309bdbbc-d92c-427e-9fba-ec26d2eae6fe",
   "metadata": {},
   "outputs": [],
   "source": [
    "#各文中の、形態素組み合わせを作る\n",
    "sentences_combs = [list(itertools.combinations(sentence,2)) for sentence in sentences]\n",
    "#print(sentences_combs[0])\n",
    "\n",
    "#組み合わせた2つの形態素の並びをソート\n",
    "words_combs = [[tuple(sorted(words)) for words in sentence] for sentence in sentences_combs]\n",
    "#print(words_combs[0][:30])\n",
    "target_combs = []\n",
    "for words_comb in words_combs:\n",
    "    target_combs.extend(words_comb)\n",
    "ct = Counter(target_combs)\n",
    "#print(ct)\n",
    "df = pd.DataFrame([{\"1番目\" : i[0][0], \"2番目\": i[0][1], \"count\":i[1]} for i in ct.most_common()])\n",
    "#df.head(30)\n"
   ]
  },
  {
   "cell_type": "code",
   "execution_count": 101,
   "id": "85926e8a-24bf-49de-8078-8956c1156d70",
   "metadata": {},
   "outputs": [
    {
     "name": "stdout",
     "output_type": "stream",
     "text": [
      "[['\\u3000', '記号,空白,*,*,*,*,\\u3000,\\u3000,\\u3000'], ['「', '記号,括弧開,*,*,*,*,「,「,「'], ['感動', '名詞,サ変接続,*,*,*,*,感動,カンドウ,カンドー'], ['」', '記号,括弧閉,*,*,*,*,」,」,」'], ['を', '助詞,格助詞,一般,*,*,*,を,ヲ,ヲ'], ['創り', '動詞,自立,*,*,五段・ラ行,連用形,創る,ツクリ,ツクリ'], ['、', '記号,読点,*,*,*,*,、,、,、'], ['届ける', '動詞,自立,*,*,一段,基本形,届ける,トドケル,トドケル'], ['ため', '名詞,非自立,副詞可能,*,*,*,ため,タメ,タメ'], ['、', '記号,読点,*,*,*,*,、,、,、'], ['感動', '名詞,サ変接続,*,*,*,*,感動,カンドウ,カンドー'], ['クリエイション', '名詞,固有名詞,一般,*,*,*,Creation,クリエイション,クリエイション'], ['、', '記号,読点,*,*,*,*,、,、,、'], ['すなわち', '接続詞,*,*,*,*,*,すなわち,スナワチ,スナワチ'], ['コンテンツ', '名詞,一般,*,*,*,*,コンテンツ,コンテンツ,コンテンツ'], ['IP', '名詞,固有名詞,一般,*,*,*,IP,アイピイ,アイピー'], ['の', '助詞,連体化,*,*,*,*,の,ノ,ノ'], ['強化', '名詞,サ変接続,*,*,*,*,強化,キョウカ,キョーカ'], ['に', '助詞,格助詞,一般,*,*,*,に,ニ,ニ'], ['取り組ん', '動詞,自立,*,*,五段・マ行,連用タ接続,取り組む,トリクン,トリクン'], ['で', '助詞,接続助詞,*,*,*,*,で,デ,デ'], ['い', '動詞,非自立,*,*,一段,連用形,いる,イ,イ'], ['ます', '助動詞,*,*,*,特殊・マス,基本形,ます,マス,マス'], ['。', '記号,句点,*,*,*,*,。,。,。'], ['コンテンツ', '名詞,一般,*,*,*,*,コンテンツ,コンテンツ,コンテンツ'], ['そのもの', '名詞,一般,*,*,*,*,そのもの,ソノモノ,ソノモノ'], ['へ', '助詞,格助詞,一般,*,*,*,へ,ヘ,エ'], ['の', '助詞,連体化,*,*,*,*,の,ノ,ノ'], ['投資', '名詞,サ変接続,*,*,*,*,投資,トウシ,トーシ'], ['に', '助詞,格助詞,一般,*,*,*,に,ニ,ニ'], ['加え', '動詞,自立,*,*,一段,連用形,加える,クワエ,クワエ'], ['、', '記号,読点,*,*,*,*,、,、,、'], ['クリエイター', '名詞,固有名詞,一般,*,*,*,Creator,クリエイター,クリエイター'], ['に', '助詞,格助詞,一般,*,*,*,に,ニ,ニ'], ['近づき', '動詞,自立,*,*,五段・カ行イ音便,連用形,近づく,チカヅキ,チカズキ'], ['、', '記号,読点,*,*,*,*,、,、,、'], ['感動', '名詞,サ変接続,*,*,*,*,感動,カンドウ,カンドー'], ['を', '助詞,格助詞,一般,*,*,*,を,ヲ,ヲ'], ['創る', '動詞,自立,*,*,五段・ラ行,基本形,創る,ツクル,ツクル'], ['力', '名詞,一般,*,*,*,*,力,チカラ,チカラ'], ['に', '助詞,格助詞,一般,*,*,*,に,ニ,ニ'], ['も', '助詞,係助詞,*,*,*,*,も,モ,モ'], ['投資', '名詞,サ変接続,*,*,*,*,投資,トウシ,トーシ'], ['し', '動詞,自立,*,*,サ変・スル,連用形,する,シ,シ'], ['て', '助詞,接続助詞,*,*,*,*,て,テ,テ'], ['い', '動詞,非自立,*,*,一段,連用形,いる,イ,イ'], ['ます', '助動詞,*,*,*,特殊・マス,基本形,ます,マス,マス'], ['。', '記号,句点,*,*,*,*,。,。,。'], ['過去', '名詞,副詞可能,*,*,*,*,過去,カコ,カコ'], ['5年', '名詞,固有名詞,一般,*,*,*,5年,ゴネン,ゴネン'], ['の', '助詞,連体化,*,*,*,*,の,ノ,ノ'], ['コンテンツ', '名詞,一般,*,*,*,*,コンテンツ,コンテンツ,コンテンツ'], ['IP', '名詞,固有名詞,一般,*,*,*,IP,アイピイ,アイピー'], ['へ', '助詞,格助詞,一般,*,*,*,へ,ヘ,エ'], ['の', '助詞,連体化,*,*,*,*,の,ノ,ノ'], ['投資額', '名詞,固有名詞,一般,*,*,*,投資額,トウシガク,トーシガク'], ['は', '助詞,係助詞,*,*,*,*,は,ハ,ワ'], ['約', '接頭詞,数接続,*,*,*,*,約,ヤク,ヤク'], ['1兆円', '名詞,固有名詞,一般,*,*,*,1兆円,イチチョウエン,イチチョーエン'], ['です', '助動詞,*,*,*,特殊・デス,基本形,です,デス,デス'], ['。', '記号,句点,*,*,*,*,。,。,。']]\n"
     ]
    }
   ],
   "source": [
    "print(talknizer_bare(text))"
   ]
  },
  {
   "cell_type": "code",
   "execution_count": 102,
   "id": "59a37ea0-2706-481a-b0c9-16b22d92874c",
   "metadata": {},
   "outputs": [
    {
     "name": "stdout",
     "output_type": "stream",
     "text": [
      "['\\u3000', '「', '感動', '」', 'を', '創る', '、', '届ける', 'ため', '、', '感動', 'Creation', '、', 'すなわち', 'コンテンツ', 'IP', 'の', '強化', 'に', '取り組む', 'で', 'いる', 'ます', '。', 'コンテンツ', 'そのもの', 'へ', 'の', '投資', 'に', '加える', '、', 'Creator', 'に', '近づく', '、', '感動', 'を', '創る', '力', 'に', 'も', '投資', 'する', 'て', 'いる', 'ます', '。', '過去', '5年', 'の', 'コンテンツ', 'IP', 'へ', 'の', '投資額', 'は', '約', '1兆円', 'です', '。']\n"
     ]
    }
   ],
   "source": [
    "print(token_bare(text))"
   ]
  },
  {
   "cell_type": "code",
   "execution_count": 103,
   "id": "2b538c0a-0590-4407-8a52-9f41a21613c3",
   "metadata": {},
   "outputs": [
    {
     "name": "stdout",
     "output_type": "stream",
     "text": [
      "['\\u3000', '「', '感動', '」', 'を', '創る', '、', '届ける', 'ため', '、', '感動', 'Creation', '、', 'すなわち', 'コンテンツIP', 'の', '強化', 'に', '取り組む', 'で', 'いる', 'ます', '。', 'コンテンツ', 'そのもの', 'へ', 'の', '投資', 'に', '加える', '、', 'Creator', 'に', '近づく', '、', '感動', 'を', '創る', '力', 'に', 'も', '投資', 'する', 'て', 'いる', 'ます', '。', '過去', '5年', 'の', 'コンテンツIP', 'へ', 'の', '投資額', 'は', '約', '1兆円', 'です', '。']\n"
     ]
    }
   ],
   "source": [
    "print(token_with_userdic(text))"
   ]
  },
  {
   "cell_type": "code",
   "execution_count": 104,
   "id": "dc84dce8-9cdb-4e7d-a33c-faa3a1cc6478",
   "metadata": {},
   "outputs": [
    {
     "name": "stdout",
     "output_type": "stream",
     "text": [
      "['感動', '感動', 'Creation', 'コンテンツ', 'IP', '強化', 'コンテンツ', 'そのもの', '投資', 'Creator', '感動', '力', '投資', '過去', '5年', 'コンテンツ', 'IP', '投資額', '1兆円']\n"
     ]
    }
   ],
   "source": [
    "print(token_noun(text))"
   ]
  },
  {
   "cell_type": "code",
   "execution_count": 105,
   "id": "f3baec82-1bd1-4aed-8917-dcfea101b08f",
   "metadata": {},
   "outputs": [
    {
     "name": "stdout",
     "output_type": "stream",
     "text": [
      "　「感動」を創り、届けるため、感動クリエイション、すなわちコンテンツIPの強化に取り組んでいます。\n",
      "コンテンツそのものへの投資に加え、クリエイターに近づき、感動を創る力にも投資しています。過去5年のコンテンツIPへの投資額は約1兆円です。\n",
      "--------\n",
      "['感動', '感動', 'Creation', 'コンテンツ', 'IP', '強化', 'コンテンツ', 'そのもの', '投資', 'Creator', '感動', '力', '投資', '過去', '5年', 'コンテンツ', 'IP', '投資額', '1兆円']\n",
      "--------\n",
      "['感動', '感動', 'Creation', 'コンテンツIP', '強化', 'コンテンツ', 'そのもの', '投資', 'Creator', '感動', '力', '投資', '過去', '5年', 'コンテンツIP', '投資額', '1兆円']\n"
     ]
    }
   ],
   "source": [
    "print(text)\n",
    "print(\"--------\")\n",
    "print(token_noun(text))\n",
    "print(\"--------\")\n",
    "print(token_noun_with_userdic(text))"
   ]
  },
  {
   "cell_type": "code",
   "execution_count": 106,
   "id": "2441e249-4092-4b29-84aa-5afbfcee9896",
   "metadata": {},
   "outputs": [
    {
     "data": {
      "text/html": [
       "<div>\n",
       "<style scoped>\n",
       "    .dataframe tbody tr th:only-of-type {\n",
       "        vertical-align: middle;\n",
       "    }\n",
       "\n",
       "    .dataframe tbody tr th {\n",
       "        vertical-align: top;\n",
       "    }\n",
       "\n",
       "    .dataframe thead th {\n",
       "        text-align: right;\n",
       "    }\n",
       "</style>\n",
       "<table border=\"1\" class=\"dataframe\">\n",
       "  <thead>\n",
       "    <tr style=\"text-align: right;\">\n",
       "      <th></th>\n",
       "      <th>1番目</th>\n",
       "      <th>2番目</th>\n",
       "      <th>count</th>\n",
       "    </tr>\n",
       "  </thead>\n",
       "  <tbody>\n",
       "    <tr>\n",
       "      <th>0</th>\n",
       "      <td>Creation</td>\n",
       "      <td>感動</td>\n",
       "      <td>2</td>\n",
       "    </tr>\n",
       "    <tr>\n",
       "      <th>1</th>\n",
       "      <td>コンテンツIP</td>\n",
       "      <td>感動</td>\n",
       "      <td>2</td>\n",
       "    </tr>\n",
       "    <tr>\n",
       "      <th>2</th>\n",
       "      <td>強化</td>\n",
       "      <td>感動</td>\n",
       "      <td>2</td>\n",
       "    </tr>\n",
       "    <tr>\n",
       "      <th>3</th>\n",
       "      <td>コンテンツ</td>\n",
       "      <td>投資</td>\n",
       "      <td>2</td>\n",
       "    </tr>\n",
       "    <tr>\n",
       "      <th>4</th>\n",
       "      <td>そのもの</td>\n",
       "      <td>投資</td>\n",
       "      <td>2</td>\n",
       "    </tr>\n",
       "    <tr>\n",
       "      <th>5</th>\n",
       "      <td>Creator</td>\n",
       "      <td>投資</td>\n",
       "      <td>2</td>\n",
       "    </tr>\n",
       "    <tr>\n",
       "      <th>6</th>\n",
       "      <td>感動</td>\n",
       "      <td>投資</td>\n",
       "      <td>2</td>\n",
       "    </tr>\n",
       "    <tr>\n",
       "      <th>7</th>\n",
       "      <td>力</td>\n",
       "      <td>投資</td>\n",
       "      <td>2</td>\n",
       "    </tr>\n",
       "    <tr>\n",
       "      <th>8</th>\n",
       "      <td>感動</td>\n",
       "      <td>感動</td>\n",
       "      <td>1</td>\n",
       "    </tr>\n",
       "    <tr>\n",
       "      <th>9</th>\n",
       "      <td>Creation</td>\n",
       "      <td>コンテンツIP</td>\n",
       "      <td>1</td>\n",
       "    </tr>\n",
       "    <tr>\n",
       "      <th>10</th>\n",
       "      <td>Creation</td>\n",
       "      <td>強化</td>\n",
       "      <td>1</td>\n",
       "    </tr>\n",
       "    <tr>\n",
       "      <th>11</th>\n",
       "      <td>コンテンツIP</td>\n",
       "      <td>強化</td>\n",
       "      <td>1</td>\n",
       "    </tr>\n",
       "    <tr>\n",
       "      <th>12</th>\n",
       "      <td>そのもの</td>\n",
       "      <td>コンテンツ</td>\n",
       "      <td>1</td>\n",
       "    </tr>\n",
       "    <tr>\n",
       "      <th>13</th>\n",
       "      <td>Creator</td>\n",
       "      <td>コンテンツ</td>\n",
       "      <td>1</td>\n",
       "    </tr>\n",
       "    <tr>\n",
       "      <th>14</th>\n",
       "      <td>コンテンツ</td>\n",
       "      <td>感動</td>\n",
       "      <td>1</td>\n",
       "    </tr>\n",
       "    <tr>\n",
       "      <th>15</th>\n",
       "      <td>コンテンツ</td>\n",
       "      <td>力</td>\n",
       "      <td>1</td>\n",
       "    </tr>\n",
       "    <tr>\n",
       "      <th>16</th>\n",
       "      <td>Creator</td>\n",
       "      <td>そのもの</td>\n",
       "      <td>1</td>\n",
       "    </tr>\n",
       "    <tr>\n",
       "      <th>17</th>\n",
       "      <td>そのもの</td>\n",
       "      <td>感動</td>\n",
       "      <td>1</td>\n",
       "    </tr>\n",
       "    <tr>\n",
       "      <th>18</th>\n",
       "      <td>そのもの</td>\n",
       "      <td>力</td>\n",
       "      <td>1</td>\n",
       "    </tr>\n",
       "    <tr>\n",
       "      <th>19</th>\n",
       "      <td>投資</td>\n",
       "      <td>投資</td>\n",
       "      <td>1</td>\n",
       "    </tr>\n",
       "  </tbody>\n",
       "</table>\n",
       "</div>"
      ],
      "text/plain": [
       "         1番目      2番目  count\n",
       "0   Creation       感動      2\n",
       "1    コンテンツIP       感動      2\n",
       "2         強化       感動      2\n",
       "3      コンテンツ       投資      2\n",
       "4       そのもの       投資      2\n",
       "5    Creator       投資      2\n",
       "6         感動       投資      2\n",
       "7          力       投資      2\n",
       "8         感動       感動      1\n",
       "9   Creation  コンテンツIP      1\n",
       "10  Creation       強化      1\n",
       "11   コンテンツIP       強化      1\n",
       "12      そのもの    コンテンツ      1\n",
       "13   Creator    コンテンツ      1\n",
       "14     コンテンツ       感動      1\n",
       "15     コンテンツ        力      1\n",
       "16   Creator     そのもの      1\n",
       "17      そのもの       感動      1\n",
       "18      そのもの        力      1\n",
       "19        投資       投資      1"
      ]
     },
     "execution_count": 106,
     "metadata": {},
     "output_type": "execute_result"
    }
   ],
   "source": [
    "df.head(20)"
   ]
  },
  {
   "cell_type": "code",
   "execution_count": null,
   "id": "11378b06-5f45-4ab0-9264-9af9808a1ccf",
   "metadata": {},
   "outputs": [],
   "source": []
  },
  {
   "cell_type": "code",
   "execution_count": null,
   "id": "04eb6e96-d272-44b7-9f57-02dee8a4be30",
   "metadata": {},
   "outputs": [],
   "source": []
  }
 ],
 "metadata": {
  "kernelspec": {
   "display_name": "Python 3 (ipykernel)",
   "language": "python",
   "name": "python3"
  },
  "language_info": {
   "codemirror_mode": {
    "name": "ipython",
    "version": 3
   },
   "file_extension": ".py",
   "mimetype": "text/x-python",
   "name": "python",
   "nbconvert_exporter": "python",
   "pygments_lexer": "ipython3",
   "version": "3.8.19"
  }
 },
 "nbformat": 4,
 "nbformat_minor": 5
}
