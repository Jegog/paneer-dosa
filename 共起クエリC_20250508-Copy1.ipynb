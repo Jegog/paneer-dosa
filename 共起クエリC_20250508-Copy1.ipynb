{
 "cells": [
  {
   "cell_type": "code",
   "execution_count": 6,
   "id": "dd37938f-7dba-413b-9eeb-f2b13d4cd584",
   "metadata": {},
   "outputs": [
    {
     "name": "stdout",
     "output_type": "stream",
     "text": [
      "          1番目             2番目  count    コード    企業名 分析範囲\n",
      "0         ACC            ブランド      2  79360  アシックス  all\n",
      "1          AI            ブランド      3  79360  アシックス  all\n",
      "2         AJP            ブランド      1  79360  アシックス  all\n",
      "3        APEQ      ファッションブランド      1  79360  アシックス  all\n",
      "4        APEQ  プレミアムアクティブブランド      1  79360  アシックス  all\n",
      "..        ...             ...    ...    ...    ...  ...\n",
      "579  レピュテーション              心身      2  79360  アシックス  all\n",
      "580  レピュテーション              社会      1  79360  アシックス  all\n",
      "581  レピュテーション           競争優位性      2  79360  アシックス  all\n",
      "582  レピュテーション              製品      2  79360  アシックス  all\n",
      "583  レピュテーション              課題      1  79360  アシックス  all\n",
      "\n",
      "[584 rows x 6 columns]\n"
     ]
    }
   ],
   "source": [
    "from google.cloud import bigquery\n",
    "import pandas as pd\n",
    "\n",
    "client = bigquery.Client()\n",
    "\n",
    "# 例：テストクエリ（公開データセットでもOK）\n",
    "sql = \"\"\"\n",
    "SELECT \n",
    "    data.`1番目` AS `1番目`,\n",
    "    data.`2番目` AS `2番目`,\n",
    "    sum(data.count) AS `件数`,\n",
    "    data.`コード` AS `コード`,\n",
    "    data.`企業名` AS `企業名`,\n",
    "    data.`分析範囲` AS `分析範囲`,\n",
    "FROM \n",
    "    `my-ip-project-425607.LESJ_Textmining.79360_アシックス_Co-Occurrence_2023` data\n",
    "LEFT JOIN \n",
    "    `my-ip-project-425607.LESJ_Textmining.Brand_Keyword_C` k3\n",
    "ON \n",
    "    STRPOS(data.`1番目`, k3.Keyword) > 0 OR STRPOS(data.`2番目`, k3.Keyword) > 0\n",
    "WHERE\n",
    "    (k3.Keyword IS NOT NULL) AND (data.`分析範囲` = \"all\")\n",
    "order by `1番目` ASC, `2番目` ASC;\n",
    "\n",
    "\"\"\"\n",
    "\n",
    "df = client.query(sql).to_dataframe()\n",
    "print(df)\n",
    "output_folder = 'output'\n",
    "\n",
    "file_name = \"Asics共起_KeywordC_2023\"\n",
    "\n",
    "file_path = output_folder + '/' + file_name\n",
    "df.to_csv(file_path, encoding=\"utf_8_sig\", index=False)"
   ]
  },
  {
   "cell_type": "code",
   "execution_count": null,
   "id": "9d5e94dd-0ca1-4930-9a31-ec33d3f6dc3a",
   "metadata": {},
   "outputs": [],
   "source": []
  }
 ],
 "metadata": {
  "kernelspec": {
   "display_name": "Python 3 (ipykernel)",
   "language": "python",
   "name": "python3"
  },
  "language_info": {
   "codemirror_mode": {
    "name": "ipython",
    "version": 3
   },
   "file_extension": ".py",
   "mimetype": "text/x-python",
   "name": "python",
   "nbconvert_exporter": "python",
   "pygments_lexer": "ipython3",
   "version": "3.8.20"
  }
 },
 "nbformat": 4,
 "nbformat_minor": 5
}
